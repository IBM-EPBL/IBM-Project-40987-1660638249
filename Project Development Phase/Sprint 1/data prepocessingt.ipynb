{
  "nbformat": 4,
  "nbformat_minor": 0,
  "metadata": {
    "colab": {
      "provenance": [],
      "collapsed_sections": []
    },
    "kernelspec": {
      "name": "python3",
      "display_name": "Python 3"
    },
    "language_info": {
      "name": "python"
    }
  },
  "cells": [
    {
      "cell_type": "code",
      "execution_count": 1,
      "metadata": {
        "id": "E3EJE1nVXH-n"
      },
      "outputs": [],
      "source": [
        "import numpy as np\n",
        "import pandas as pd\n",
        "import seaborn as sns\n",
        "import matplotlib.pyplot as plt\n",
        "import random"
      ]
    },
    {
      "cell_type": "code",
      "source": [
        "df = pd.read_csv('https://raw.githubusercontent.com/Govind155/Web-Phishing-Detection-/main/dataset.csv')"
      ],
      "metadata": {
        "id": "g1MsH9KIXPsA"
      },
      "execution_count": 2,
      "outputs": []
    },
    {
      "cell_type": "code",
      "source": [
        "df.head()"
      ],
      "metadata": {
        "colab": {
          "base_uri": "https://localhost:8080/",
          "height": 300
        },
        "id": "KFymG76RXSCn",
        "outputId": "7a35fca4-b23f-494c-f505-b71148d438b2"
      },
      "execution_count": 3,
      "outputs": [
        {
          "output_type": "execute_result",
          "data": {
            "text/plain": [
              "   index  having_IPhaving_IP_Address  URLURL_Length  Shortining_Service  \\\n",
              "0      1                          -1              1                   1   \n",
              "1      2                           1              1                   1   \n",
              "2      3                           1              0                   1   \n",
              "3      4                           1              0                   1   \n",
              "4      5                           1              0                  -1   \n",
              "\n",
              "   having_At_Symbol  double_slash_redirecting  Prefix_Suffix  \\\n",
              "0               NaN                        -1             -1   \n",
              "1               1.0                         1             -1   \n",
              "2               1.0                         1             -1   \n",
              "3               1.0                         1             -1   \n",
              "4               NaN                         1             -1   \n",
              "\n",
              "   having_Sub_Domain  SSLfinal_State  Domain_registeration_length  ...  \\\n",
              "0                 -1              -1                           -1  ...   \n",
              "1                  0               1                           -1  ...   \n",
              "2                 -1              -1                           -1  ...   \n",
              "3                 -1              -1                            1  ...   \n",
              "4                  1               1                           -1  ...   \n",
              "\n",
              "   popUpWidnow  Iframe  age_of_domain  DNSRecord  web_traffic  Page_Rank  \\\n",
              "0            1       1             -1         -1           -1         -1   \n",
              "1            1       1             -1         -1            0         -1   \n",
              "2            1       1              1         -1            1         -1   \n",
              "3            1       1             -1         -1            1         -1   \n",
              "4           -1       1             -1         -1            0         -1   \n",
              "\n",
              "   Google_Index  Links_pointing_to_page  Statistical_report  Result  \n",
              "0             1                       1                  -1      -1  \n",
              "1             1                       1                   1      -1  \n",
              "2             1                       0                  -1      -1  \n",
              "3             1                      -1                   1      -1  \n",
              "4             1                       1                   1       1  \n",
              "\n",
              "[5 rows x 32 columns]"
            ],
            "text/html": [
              "\n",
              "  <div id=\"df-9e8f3f6b-672e-42d4-9a45-5909dc606193\">\n",
              "    <div class=\"colab-df-container\">\n",
              "      <div>\n",
              "<style scoped>\n",
              "    .dataframe tbody tr th:only-of-type {\n",
              "        vertical-align: middle;\n",
              "    }\n",
              "\n",
              "    .dataframe tbody tr th {\n",
              "        vertical-align: top;\n",
              "    }\n",
              "\n",
              "    .dataframe thead th {\n",
              "        text-align: right;\n",
              "    }\n",
              "</style>\n",
              "<table border=\"1\" class=\"dataframe\">\n",
              "  <thead>\n",
              "    <tr style=\"text-align: right;\">\n",
              "      <th></th>\n",
              "      <th>index</th>\n",
              "      <th>having_IPhaving_IP_Address</th>\n",
              "      <th>URLURL_Length</th>\n",
              "      <th>Shortining_Service</th>\n",
              "      <th>having_At_Symbol</th>\n",
              "      <th>double_slash_redirecting</th>\n",
              "      <th>Prefix_Suffix</th>\n",
              "      <th>having_Sub_Domain</th>\n",
              "      <th>SSLfinal_State</th>\n",
              "      <th>Domain_registeration_length</th>\n",
              "      <th>...</th>\n",
              "      <th>popUpWidnow</th>\n",
              "      <th>Iframe</th>\n",
              "      <th>age_of_domain</th>\n",
              "      <th>DNSRecord</th>\n",
              "      <th>web_traffic</th>\n",
              "      <th>Page_Rank</th>\n",
              "      <th>Google_Index</th>\n",
              "      <th>Links_pointing_to_page</th>\n",
              "      <th>Statistical_report</th>\n",
              "      <th>Result</th>\n",
              "    </tr>\n",
              "  </thead>\n",
              "  <tbody>\n",
              "    <tr>\n",
              "      <th>0</th>\n",
              "      <td>1</td>\n",
              "      <td>-1</td>\n",
              "      <td>1</td>\n",
              "      <td>1</td>\n",
              "      <td>NaN</td>\n",
              "      <td>-1</td>\n",
              "      <td>-1</td>\n",
              "      <td>-1</td>\n",
              "      <td>-1</td>\n",
              "      <td>-1</td>\n",
              "      <td>...</td>\n",
              "      <td>1</td>\n",
              "      <td>1</td>\n",
              "      <td>-1</td>\n",
              "      <td>-1</td>\n",
              "      <td>-1</td>\n",
              "      <td>-1</td>\n",
              "      <td>1</td>\n",
              "      <td>1</td>\n",
              "      <td>-1</td>\n",
              "      <td>-1</td>\n",
              "    </tr>\n",
              "    <tr>\n",
              "      <th>1</th>\n",
              "      <td>2</td>\n",
              "      <td>1</td>\n",
              "      <td>1</td>\n",
              "      <td>1</td>\n",
              "      <td>1.0</td>\n",
              "      <td>1</td>\n",
              "      <td>-1</td>\n",
              "      <td>0</td>\n",
              "      <td>1</td>\n",
              "      <td>-1</td>\n",
              "      <td>...</td>\n",
              "      <td>1</td>\n",
              "      <td>1</td>\n",
              "      <td>-1</td>\n",
              "      <td>-1</td>\n",
              "      <td>0</td>\n",
              "      <td>-1</td>\n",
              "      <td>1</td>\n",
              "      <td>1</td>\n",
              "      <td>1</td>\n",
              "      <td>-1</td>\n",
              "    </tr>\n",
              "    <tr>\n",
              "      <th>2</th>\n",
              "      <td>3</td>\n",
              "      <td>1</td>\n",
              "      <td>0</td>\n",
              "      <td>1</td>\n",
              "      <td>1.0</td>\n",
              "      <td>1</td>\n",
              "      <td>-1</td>\n",
              "      <td>-1</td>\n",
              "      <td>-1</td>\n",
              "      <td>-1</td>\n",
              "      <td>...</td>\n",
              "      <td>1</td>\n",
              "      <td>1</td>\n",
              "      <td>1</td>\n",
              "      <td>-1</td>\n",
              "      <td>1</td>\n",
              "      <td>-1</td>\n",
              "      <td>1</td>\n",
              "      <td>0</td>\n",
              "      <td>-1</td>\n",
              "      <td>-1</td>\n",
              "    </tr>\n",
              "    <tr>\n",
              "      <th>3</th>\n",
              "      <td>4</td>\n",
              "      <td>1</td>\n",
              "      <td>0</td>\n",
              "      <td>1</td>\n",
              "      <td>1.0</td>\n",
              "      <td>1</td>\n",
              "      <td>-1</td>\n",
              "      <td>-1</td>\n",
              "      <td>-1</td>\n",
              "      <td>1</td>\n",
              "      <td>...</td>\n",
              "      <td>1</td>\n",
              "      <td>1</td>\n",
              "      <td>-1</td>\n",
              "      <td>-1</td>\n",
              "      <td>1</td>\n",
              "      <td>-1</td>\n",
              "      <td>1</td>\n",
              "      <td>-1</td>\n",
              "      <td>1</td>\n",
              "      <td>-1</td>\n",
              "    </tr>\n",
              "    <tr>\n",
              "      <th>4</th>\n",
              "      <td>5</td>\n",
              "      <td>1</td>\n",
              "      <td>0</td>\n",
              "      <td>-1</td>\n",
              "      <td>NaN</td>\n",
              "      <td>1</td>\n",
              "      <td>-1</td>\n",
              "      <td>1</td>\n",
              "      <td>1</td>\n",
              "      <td>-1</td>\n",
              "      <td>...</td>\n",
              "      <td>-1</td>\n",
              "      <td>1</td>\n",
              "      <td>-1</td>\n",
              "      <td>-1</td>\n",
              "      <td>0</td>\n",
              "      <td>-1</td>\n",
              "      <td>1</td>\n",
              "      <td>1</td>\n",
              "      <td>1</td>\n",
              "      <td>1</td>\n",
              "    </tr>\n",
              "  </tbody>\n",
              "</table>\n",
              "<p>5 rows × 32 columns</p>\n",
              "</div>\n",
              "      <button class=\"colab-df-convert\" onclick=\"convertToInteractive('df-9e8f3f6b-672e-42d4-9a45-5909dc606193')\"\n",
              "              title=\"Convert this dataframe to an interactive table.\"\n",
              "              style=\"display:none;\">\n",
              "        \n",
              "  <svg xmlns=\"http://www.w3.org/2000/svg\" height=\"24px\"viewBox=\"0 0 24 24\"\n",
              "       width=\"24px\">\n",
              "    <path d=\"M0 0h24v24H0V0z\" fill=\"none\"/>\n",
              "    <path d=\"M18.56 5.44l.94 2.06.94-2.06 2.06-.94-2.06-.94-.94-2.06-.94 2.06-2.06.94zm-11 1L8.5 8.5l.94-2.06 2.06-.94-2.06-.94L8.5 2.5l-.94 2.06-2.06.94zm10 10l.94 2.06.94-2.06 2.06-.94-2.06-.94-.94-2.06-.94 2.06-2.06.94z\"/><path d=\"M17.41 7.96l-1.37-1.37c-.4-.4-.92-.59-1.43-.59-.52 0-1.04.2-1.43.59L10.3 9.45l-7.72 7.72c-.78.78-.78 2.05 0 2.83L4 21.41c.39.39.9.59 1.41.59.51 0 1.02-.2 1.41-.59l7.78-7.78 2.81-2.81c.8-.78.8-2.07 0-2.86zM5.41 20L4 18.59l7.72-7.72 1.47 1.35L5.41 20z\"/>\n",
              "  </svg>\n",
              "      </button>\n",
              "      \n",
              "  <style>\n",
              "    .colab-df-container {\n",
              "      display:flex;\n",
              "      flex-wrap:wrap;\n",
              "      gap: 12px;\n",
              "    }\n",
              "\n",
              "    .colab-df-convert {\n",
              "      background-color: #E8F0FE;\n",
              "      border: none;\n",
              "      border-radius: 50%;\n",
              "      cursor: pointer;\n",
              "      display: none;\n",
              "      fill: #1967D2;\n",
              "      height: 32px;\n",
              "      padding: 0 0 0 0;\n",
              "      width: 32px;\n",
              "    }\n",
              "\n",
              "    .colab-df-convert:hover {\n",
              "      background-color: #E2EBFA;\n",
              "      box-shadow: 0px 1px 2px rgba(60, 64, 67, 0.3), 0px 1px 3px 1px rgba(60, 64, 67, 0.15);\n",
              "      fill: #174EA6;\n",
              "    }\n",
              "\n",
              "    [theme=dark] .colab-df-convert {\n",
              "      background-color: #3B4455;\n",
              "      fill: #D2E3FC;\n",
              "    }\n",
              "\n",
              "    [theme=dark] .colab-df-convert:hover {\n",
              "      background-color: #434B5C;\n",
              "      box-shadow: 0px 1px 3px 1px rgba(0, 0, 0, 0.15);\n",
              "      filter: drop-shadow(0px 1px 2px rgba(0, 0, 0, 0.3));\n",
              "      fill: #FFFFFF;\n",
              "    }\n",
              "  </style>\n",
              "\n",
              "      <script>\n",
              "        const buttonEl =\n",
              "          document.querySelector('#df-9e8f3f6b-672e-42d4-9a45-5909dc606193 button.colab-df-convert');\n",
              "        buttonEl.style.display =\n",
              "          google.colab.kernel.accessAllowed ? 'block' : 'none';\n",
              "\n",
              "        async function convertToInteractive(key) {\n",
              "          const element = document.querySelector('#df-9e8f3f6b-672e-42d4-9a45-5909dc606193');\n",
              "          const dataTable =\n",
              "            await google.colab.kernel.invokeFunction('convertToInteractive',\n",
              "                                                     [key], {});\n",
              "          if (!dataTable) return;\n",
              "\n",
              "          const docLinkHtml = 'Like what you see? Visit the ' +\n",
              "            '<a target=\"_blank\" href=https://colab.research.google.com/notebooks/data_table.ipynb>data table notebook</a>'\n",
              "            + ' to learn more about interactive tables.';\n",
              "          element.innerHTML = '';\n",
              "          dataTable['output_type'] = 'display_data';\n",
              "          await google.colab.output.renderOutput(dataTable, element);\n",
              "          const docLink = document.createElement('div');\n",
              "          docLink.innerHTML = docLinkHtml;\n",
              "          element.appendChild(docLink);\n",
              "        }\n",
              "      </script>\n",
              "    </div>\n",
              "  </div>\n",
              "  "
            ]
          },
          "metadata": {},
          "execution_count": 3
        }
      ]
    },
    {
      "cell_type": "code",
      "source": [
        "sns.heatmap(df[0:120].isnull(), cmap= 'viridis')\n",
        "plt.savefig('heatmap.png')"
      ],
      "metadata": {
        "colab": {
          "base_uri": "https://localhost:8080/",
          "height": 351
        },
        "id": "bGZJH_ysXXcX",
        "outputId": "33a13d9c-a65e-49d5-a6a8-6fa3d608dcd2"
      },
      "execution_count": 4,
      "outputs": [
        {
          "output_type": "display_data",
          "data": {
            "text/plain": [
              "<Figure size 432x288 with 2 Axes>"
            ],
            "image/png": "[encoded data removed]"
          },
          "metadata": {
            "needs_background": "light"
          }
        }
      ]
    },
    {
      "cell_type": "code",
      "source": [
        "df.describe()"
      ],
      "metadata": {
        "colab": {
          "base_uri": "https://localhost:8080/",
          "height": 394
        },
        "id": "5StRavBVXe3I",
        "outputId": "107eabfe-f8c1-4037-eb8c-cda3e67f7725"
      },
      "execution_count": 5,
      "outputs": [
        {
          "output_type": "execute_result",
          "data": {
            "text/plain": [
              "              index  having_IPhaving_IP_Address  URLURL_Length  \\\n",
              "count  11055.000000                11055.000000   11055.000000   \n",
              "mean    5528.000000                    0.313795      -0.633198   \n",
              "std     3191.447947                    0.949534       0.766095   \n",
              "min        1.000000                   -1.000000      -1.000000   \n",
              "25%     2764.500000                   -1.000000      -1.000000   \n",
              "50%     5528.000000                    1.000000      -1.000000   \n",
              "75%     8291.500000                    1.000000      -1.000000   \n",
              "max    11055.000000                    1.000000       1.000000   \n",
              "\n",
              "       Shortining_Service  having_At_Symbol  double_slash_redirecting  \\\n",
              "count        11055.000000      10959.000000              11055.000000   \n",
              "mean             0.738761          0.703440                  0.741474   \n",
              "std              0.673998          0.710787                  0.671011   \n",
              "min             -1.000000         -1.000000                 -1.000000   \n",
              "25%              1.000000          1.000000                  1.000000   \n",
              "50%              1.000000          1.000000                  1.000000   \n",
              "75%              1.000000          1.000000                  1.000000   \n",
              "max              1.000000          1.000000                  1.000000   \n",
              "\n",
              "       Prefix_Suffix  having_Sub_Domain  SSLfinal_State  \\\n",
              "count   11055.000000       11055.000000    11055.000000   \n",
              "mean       -0.734962           0.063953        0.250927   \n",
              "std         0.678139           0.817518        0.911892   \n",
              "min        -1.000000          -1.000000       -1.000000   \n",
              "25%        -1.000000          -1.000000       -1.000000   \n",
              "50%        -1.000000           0.000000        1.000000   \n",
              "75%        -1.000000           1.000000        1.000000   \n",
              "max         1.000000           1.000000        1.000000   \n",
              "\n",
              "       Domain_registeration_length  ...   popUpWidnow        Iframe  \\\n",
              "count                 11055.000000  ...  11055.000000  11055.000000   \n",
              "mean                     -0.336771  ...      0.613388      0.816915   \n",
              "std                       0.941629  ...      0.789818      0.576784   \n",
              "min                      -1.000000  ...     -1.000000     -1.000000   \n",
              "25%                      -1.000000  ...      1.000000      1.000000   \n",
              "50%                      -1.000000  ...      1.000000      1.000000   \n",
              "75%                       1.000000  ...      1.000000      1.000000   \n",
              "max                       1.000000  ...      1.000000      1.000000   \n",
              "\n",
              "       age_of_domain     DNSRecord   web_traffic     Page_Rank  Google_Index  \\\n",
              "count   11055.000000  11055.000000  11055.000000  11055.000000  11055.000000   \n",
              "mean        0.061239      0.377114      0.287291     -0.483673      0.721574   \n",
              "std         0.998168      0.926209      0.827733      0.875289      0.692369   \n",
              "min        -1.000000     -1.000000     -1.000000     -1.000000     -1.000000   \n",
              "25%        -1.000000     -1.000000      0.000000     -1.000000      1.000000   \n",
              "50%         1.000000      1.000000      1.000000     -1.000000      1.000000   \n",
              "75%         1.000000      1.000000      1.000000      1.000000      1.000000   \n",
              "max         1.000000      1.000000      1.000000      1.000000      1.000000   \n",
              "\n",
              "       Links_pointing_to_page  Statistical_report        Result  \n",
              "count            11055.000000        11055.000000  11055.000000  \n",
              "mean                 0.344007            0.719584      0.113885  \n",
              "std                  0.569944            0.694437      0.993539  \n",
              "min                 -1.000000           -1.000000     -1.000000  \n",
              "25%                  0.000000            1.000000     -1.000000  \n",
              "50%                  0.000000            1.000000      1.000000  \n",
              "75%                  1.000000            1.000000      1.000000  \n",
              "max                  1.000000            1.000000      1.000000  \n",
              "\n",
              "[8 rows x 32 columns]"
            ],
            "text/html": [
              "\n",
              "  <div id=\"df-f53c9e16-c89a-4e79-85f4-a61dd669c63c\">\n",
              "    <div class=\"colab-df-container\">\n",
              "      <div>\n",
              "<style scoped>\n",
              "    .dataframe tbody tr th:only-of-type {\n",
              "        vertical-align: middle;\n",
              "    }\n",
              "\n",
              "    .dataframe tbody tr th {\n",
              "        vertical-align: top;\n",
              "    }\n",
              "\n",
              "    .dataframe thead th {\n",
              "        text-align: right;\n",
              "    }\n",
              "</style>\n",
              "<table border=\"1\" class=\"dataframe\">\n",
              "  <thead>\n",
              "    <tr style=\"text-align: right;\">\n",
              "      <th></th>\n",
              "      <th>index</th>\n",
              "      <th>having_IPhaving_IP_Address</th>\n",
              "      <th>URLURL_Length</th>\n",
              "      <th>Shortining_Service</th>\n",
              "      <th>having_At_Symbol</th>\n",
              "      <th>double_slash_redirecting</th>\n",
              "      <th>Prefix_Suffix</th>\n",
              "      <th>having_Sub_Domain</th>\n",
              "      <th>SSLfinal_State</th>\n",
              "      <th>Domain_registeration_length</th>\n",
              "      <th>...</th>\n",
              "      <th>popUpWidnow</th>\n",
              "      <th>Iframe</th>\n",
              "      <th>age_of_domain</th>\n",
              "      <th>DNSRecord</th>\n",
              "      <th>web_traffic</th>\n",
              "      <th>Page_Rank</th>\n",
              "      <th>Google_Index</th>\n",
              "      <th>Links_pointing_to_page</th>\n",
              "      <th>Statistical_report</th>\n",
              "      <th>Result</th>\n",
              "    </tr>\n",
              "  </thead>\n",
              "  <tbody>\n",
              "    <tr>\n",
              "      <th>count</th>\n",
              "      <td>11055.000000</td>\n",
              "      <td>11055.000000</td>\n",
              "      <td>11055.000000</td>\n",
              "      <td>11055.000000</td>\n",
              "      <td>10959.000000</td>\n",
              "      <td>11055.000000</td>\n",
              "      <td>11055.000000</td>\n",
              "      <td>11055.000000</td>\n",
              "      <td>11055.000000</td>\n",
              "      <td>11055.000000</td>\n",
              "      <td>...</td>\n",
              "      <td>11055.000000</td>\n",
              "      <td>11055.000000</td>\n",
              "      <td>11055.000000</td>\n",
              "      <td>11055.000000</td>\n",
              "      <td>11055.000000</td>\n",
              "      <td>11055.000000</td>\n",
              "      <td>11055.000000</td>\n",
              "      <td>11055.000000</td>\n",
              "      <td>11055.000000</td>\n",
              "      <td>11055.000000</td>\n",
              "    </tr>\n",
              "    <tr>\n",
              "      <th>mean</th>\n",
              "      <td>5528.000000</td>\n",
              "      <td>0.313795</td>\n",
              "      <td>-0.633198</td>\n",
              "      <td>0.738761</td>\n",
              "      <td>0.703440</td>\n",
              "      <td>0.741474</td>\n",
              "      <td>-0.734962</td>\n",
              "      <td>0.063953</td>\n",
              "      <td>0.250927</td>\n",
              "      <td>-0.336771</td>\n",
              "      <td>...</td>\n",
              "      <td>0.613388</td>\n",
              "      <td>0.816915</td>\n",
              "      <td>0.061239</td>\n",
              "      <td>0.377114</td>\n",
              "      <td>0.287291</td>\n",
              "      <td>-0.483673</td>\n",
              "      <td>0.721574</td>\n",
              "      <td>0.344007</td>\n",
              "      <td>0.719584</td>\n",
              "      <td>0.113885</td>\n",
              "    </tr>\n",
              "    <tr>\n",
              "      <th>std</th>\n",
              "      <td>3191.447947</td>\n",
              "      <td>0.949534</td>\n",
              "      <td>0.766095</td>\n",
              "      <td>0.673998</td>\n",
              "      <td>0.710787</td>\n",
              "      <td>0.671011</td>\n",
              "      <td>0.678139</td>\n",
              "      <td>0.817518</td>\n",
              "      <td>0.911892</td>\n",
              "      <td>0.941629</td>\n",
              "      <td>...</td>\n",
              "      <td>0.789818</td>\n",
              "      <td>0.576784</td>\n",
              "      <td>0.998168</td>\n",
              "      <td>0.926209</td>\n",
              "      <td>0.827733</td>\n",
              "      <td>0.875289</td>\n",
              "      <td>0.692369</td>\n",
              "      <td>0.569944</td>\n",
              "      <td>0.694437</td>\n",
              "      <td>0.993539</td>\n",
              "    </tr>\n",
              "    <tr>\n",
              "      <th>min</th>\n",
              "      <td>1.000000</td>\n",
              "      <td>-1.000000</td>\n",
              "      <td>-1.000000</td>\n",
              "      <td>-1.000000</td>\n",
              "      <td>-1.000000</td>\n",
              "      <td>-1.000000</td>\n",
              "      <td>-1.000000</td>\n",
              "      <td>-1.000000</td>\n",
              "      <td>-1.000000</td>\n",
              "      <td>-1.000000</td>\n",
              "      <td>...</td>\n",
              "      <td>-1.000000</td>\n",
              "      <td>-1.000000</td>\n",
              "      <td>-1.000000</td>\n",
              "      <td>-1.000000</td>\n",
              "      <td>-1.000000</td>\n",
              "      <td>-1.000000</td>\n",
              "      <td>-1.000000</td>\n",
              "      <td>-1.000000</td>\n",
              "      <td>-1.000000</td>\n",
              "      <td>-1.000000</td>\n",
              "    </tr>\n",
              "    <tr>\n",
              "      <th>25%</th>\n",
              "      <td>2764.500000</td>\n",
              "      <td>-1.000000</td>\n",
              "      <td>-1.000000</td>\n",
              "      <td>1.000000</td>\n",
              "      <td>1.000000</td>\n",
              "      <td>1.000000</td>\n",
              "      <td>-1.000000</td>\n",
              "      <td>-1.000000</td>\n",
              "      <td>-1.000000</td>\n",
              "      <td>-1.000000</td>\n",
              "      <td>...</td>\n",
              "      <td>1.000000</td>\n",
              "      <td>1.000000</td>\n",
              "      <td>-1.000000</td>\n",
              "      <td>-1.000000</td>\n",
              "      <td>0.000000</td>\n",
              "      <td>-1.000000</td>\n",
              "      <td>1.000000</td>\n",
              "      <td>0.000000</td>\n",
              "      <td>1.000000</td>\n",
              "      <td>-1.000000</td>\n",
              "    </tr>\n",
              "    <tr>\n",
              "      <th>50%</th>\n",
              "      <td>5528.000000</td>\n",
              "      <td>1.000000</td>\n",
              "      <td>-1.000000</td>\n",
              "      <td>1.000000</td>\n",
              "      <td>1.000000</td>\n",
              "      <td>1.000000</td>\n",
              "      <td>-1.000000</td>\n",
              "      <td>0.000000</td>\n",
              "      <td>1.000000</td>\n",
              "      <td>-1.000000</td>\n",
              "      <td>...</td>\n",
              "      <td>1.000000</td>\n",
              "      <td>1.000000</td>\n",
              "      <td>1.000000</td>\n",
              "      <td>1.000000</td>\n",
              "      <td>1.000000</td>\n",
              "      <td>-1.000000</td>\n",
              "      <td>1.000000</td>\n",
              "      <td>0.000000</td>\n",
              "      <td>1.000000</td>\n",
              "      <td>1.000000</td>\n",
              "    </tr>\n",
              "    <tr>\n",
              "      <th>75%</th>\n",
              "      <td>8291.500000</td>\n",
              "      <td>1.000000</td>\n",
              "      <td>-1.000000</td>\n",
              "      <td>1.000000</td>\n",
              "      <td>1.000000</td>\n",
              "      <td>1.000000</td>\n",
              "      <td>-1.000000</td>\n",
              "      <td>1.000000</td>\n",
              "      <td>1.000000</td>\n",
              "      <td>1.000000</td>\n",
              "      <td>...</td>\n",
              "      <td>1.000000</td>\n",
              "      <td>1.000000</td>\n",
              "      <td>1.000000</td>\n",
              "      <td>1.000000</td>\n",
              "      <td>1.000000</td>\n",
              "      <td>1.000000</td>\n",
              "      <td>1.000000</td>\n",
              "      <td>1.000000</td>\n",
              "      <td>1.000000</td>\n",
              "      <td>1.000000</td>\n",
              "    </tr>\n",
              "    <tr>\n",
              "      <th>max</th>\n",
              "      <td>11055.000000</td>\n",
              "      <td>1.000000</td>\n",
              "      <td>1.000000</td>\n",
              "      <td>1.000000</td>\n",
              "      <td>1.000000</td>\n",
              "      <td>1.000000</td>\n",
              "      <td>1.000000</td>\n",
              "      <td>1.000000</td>\n",
              "      <td>1.000000</td>\n",
              "      <td>1.000000</td>\n",
              "      <td>...</td>\n",
              "      <td>1.000000</td>\n",
              "      <td>1.000000</td>\n",
              "      <td>1.000000</td>\n",
              "      <td>1.000000</td>\n",
              "      <td>1.000000</td>\n",
              "      <td>1.000000</td>\n",
              "      <td>1.000000</td>\n",
              "      <td>1.000000</td>\n",
              "      <td>1.000000</td>\n",
              "      <td>1.000000</td>\n",
              "    </tr>\n",
              "  </tbody>\n",
              "</table>\n",
              "<p>8 rows × 32 columns</p>\n",
              "</div>\n",
              "      <button class=\"colab-df-convert\" onclick=\"convertToInteractive('df-f53c9e16-c89a-4e79-85f4-a61dd669c63c')\"\n",
              "              title=\"Convert this dataframe to an interactive table.\"\n",
              "              style=\"display:none;\">\n",
              "        \n",
              "  <svg xmlns=\"http://www.w3.org/2000/svg\" height=\"24px\"viewBox=\"0 0 24 24\"\n",
              "       width=\"24px\">\n",
              "    <path d=\"M0 0h24v24H0V0z\" fill=\"none\"/>\n",
              "    <path d=\"M18.56 5.44l.94 2.06.94-2.06 2.06-.94-2.06-.94-.94-2.06-.94 2.06-2.06.94zm-11 1L8.5 8.5l.94-2.06 2.06-.94-2.06-.94L8.5 2.5l-.94 2.06-2.06.94zm10 10l.94 2.06.94-2.06 2.06-.94-2.06-.94-.94-2.06-.94 2.06-2.06.94z\"/><path d=\"M17.41 7.96l-1.37-1.37c-.4-.4-.92-.59-1.43-.59-.52 0-1.04.2-1.43.59L10.3 9.45l-7.72 7.72c-.78.78-.78 2.05 0 2.83L4 21.41c.39.39.9.59 1.41.59.51 0 1.02-.2 1.41-.59l7.78-7.78 2.81-2.81c.8-.78.8-2.07 0-2.86zM5.41 20L4 18.59l7.72-7.72 1.47 1.35L5.41 20z\"/>\n",
              "  </svg>\n",
              "      </button>\n",
              "      \n",
              "  <style>\n",
              "    .colab-df-container {\n",
              "      display:flex;\n",
              "      flex-wrap:wrap;\n",
              "      gap: 12px;\n",
              "    }\n",
              "\n",
              "    .colab-df-convert {\n",
              "      background-color: #E8F0FE;\n",
              "      border: none;\n",
              "      border-radius: 50%;\n",
              "      cursor: pointer;\n",
              "      display: none;\n",
              "      fill: #1967D2;\n",
              "      height: 32px;\n",
              "      padding: 0 0 0 0;\n",
              "      width: 32px;\n",
              "    }\n",
              "\n",
              "    .colab-df-convert:hover {\n",
              "      background-color: #E2EBFA;\n",
              "      box-shadow: 0px 1px 2px rgba(60, 64, 67, 0.3), 0px 1px 3px 1px rgba(60, 64, 67, 0.15);\n",
              "      fill: #174EA6;\n",
              "    }\n",
              "\n",
              "    [theme=dark] .colab-df-convert {\n",
              "      background-color: #3B4455;\n",
              "      fill: #D2E3FC;\n",
              "    }\n",
              "\n",
              "    [theme=dark] .colab-df-convert:hover {\n",
              "      background-color: #434B5C;\n",
              "      box-shadow: 0px 1px 3px 1px rgba(0, 0, 0, 0.15);\n",
              "      filter: drop-shadow(0px 1px 2px rgba(0, 0, 0, 0.3));\n",
              "      fill: #FFFFFF;\n",
              "    }\n",
              "  </style>\n",
              "\n",
              "      <script>\n",
              "        const buttonEl =\n",
              "          document.querySelector('#df-f53c9e16-c89a-4e79-85f4-a61dd669c63c button.colab-df-convert');\n",
              "        buttonEl.style.display =\n",
              "          google.colab.kernel.accessAllowed ? 'block' : 'none';\n",
              "\n",
              "        async function convertToInteractive(key) {\n",
              "          const element = document.querySelector('#df-f53c9e16-c89a-4e79-85f4-a61dd669c63c');\n",
              "          const dataTable =\n",
              "            await google.colab.kernel.invokeFunction('convertToInteractive',\n",
              "                                                     [key], {});\n",
              "          if (!dataTable) return;\n",
              "\n",
              "          const docLinkHtml = 'Like what you see? Visit the ' +\n",
              "            '<a target=\"_blank\" href=https://colab.research.google.com/notebooks/data_table.ipynb>data table notebook</a>'\n",
              "            + ' to learn more about interactive tables.';\n",
              "          element.innerHTML = '';\n",
              "          dataTable['output_type'] = 'display_data';\n",
              "          await google.colab.output.renderOutput(dataTable, element);\n",
              "          const docLink = document.createElement('div');\n",
              "          docLink.innerHTML = docLinkHtml;\n",
              "          element.appendChild(docLink);\n",
              "        }\n",
              "      </script>\n",
              "    </div>\n",
              "  </div>\n",
              "  "
            ]
          },
          "metadata": {},
          "execution_count": 5
        }
      ]
    },
    {
      "cell_type": "code",
      "source": [
        "print(df.corr()['Result'].sort_values())"
      ],
      "metadata": {
        "colab": {
          "base_uri": "https://localhost:8080/"
        },
        "id": "WQJd16xgXkRo",
        "outputId": "b0082dc2-6e45-4733-afd2-c23b2ddf4f5a"
      },
      "execution_count": 6,
      "outputs": [
        {
          "output_type": "stream",
          "name": "stdout",
          "text": [
            "Domain_registeration_length   -0.225789\n",
            "Shortining_Service            -0.067966\n",
            "Abnormal_URL                  -0.060488\n",
            "HTTPS_token                   -0.039854\n",
            "double_slash_redirecting      -0.038608\n",
            "Redirect                      -0.020113\n",
            "Iframe                        -0.003394\n",
            "Favicon                       -0.000280\n",
            "popUpWidnow                    0.000086\n",
            "index                          0.000978\n",
            "RightClick                     0.012653\n",
            "Submitting_to_email            0.018249\n",
            "Links_pointing_to_page         0.032574\n",
            "port                           0.036419\n",
            "on_mouseover                   0.041838\n",
            "having_At_Symbol               0.051330\n",
            "URLURL_Length                  0.057430\n",
            "DNSRecord                      0.075718\n",
            "Statistical_report             0.079857\n",
            "having_IPhaving_IP_Address     0.094160\n",
            "Page_Rank                      0.104645\n",
            "age_of_domain                  0.121496\n",
            "Google_Index                   0.128950\n",
            "SFH                            0.221419\n",
            "Links_in_tags                  0.248229\n",
            "Request_URL                    0.253372\n",
            "having_Sub_Domain              0.298323\n",
            "web_traffic                    0.346103\n",
            "Prefix_Suffix                  0.348606\n",
            "URL_of_Anchor                  0.692935\n",
            "SSLfinal_State                 0.714741\n",
            "Result                         1.000000\n",
            "Name: Result, dtype: float64\n"
          ]
        }
      ]
    },
    {
      "cell_type": "code",
      "source": [
        "# Remove features having correlation coeff. between +/- 0.03\n",
        "df.drop(['Favicon','Iframe','Redirect',\n",
        "                'popUpWidnow','RightClick','Submitting_to_email'],axis=1,inplace=True)\n",
        "print(len(df.columns))"
      ],
      "metadata": {
        "colab": {
          "base_uri": "https://localhost:8080/"
        },
        "id": "81Lv-QjwXpig",
        "outputId": "da441ddd-ed83-4d71-ea4a-554b708809cb"
      },
      "execution_count": 7,
      "outputs": [
        {
          "output_type": "stream",
          "name": "stdout",
          "text": [
            "26\n"
          ]
        }
      ]
    },
    {
      "cell_type": "code",
      "source": [
        "sns.heatmap(df.corr())\n",
        "plt.savefig('corr.png')"
      ],
      "metadata": {
        "colab": {
          "base_uri": "https://localhost:8080/",
          "height": 351
        },
        "id": "vjW_-hStXsjw",
        "outputId": "04883481-d91f-4de0-fc23-6c49ec8a6209"
      },
      "execution_count": 8,
      "outputs": [
        {
          "output_type": "display_data",
          "data": {
            "text/plain": [
              "<Figure size 432x288 with 2 Axes>"
            ],
            "image/png": "[encoded data removed]"
          },
          "metadata": {
            "needs_background": "light"
          }
        }
      ]
    },
    {
      "cell_type": "code",
      "source": [
        "l = [1,-1]\n",
        "length = len(df)\n",
        "# df.head()\n",
        "for i in range(length):\n",
        "  if(df['having_At_Symbol'].isnull().sum()):\n",
        "    rand = random.randint(0,1)\n",
        "    df['having_At_Symbol'][i] = l[rand]"
      ],
      "metadata": {
        "id": "1ctUyynUX0MR"
      },
      "execution_count": 10,
      "outputs": []
    },
    {
      "cell_type": "code",
      "source": [
        "df.head()"
      ],
      "metadata": {
        "colab": {
          "base_uri": "https://localhost:8080/",
          "height": 300
        },
        "id": "HDyH5BOJX8-h",
        "outputId": "41ce018c-e34e-4762-8ca2-6776fe86acd7"
      },
      "execution_count": 11,
      "outputs": [
        {
          "output_type": "execute_result",
          "data": {
            "text/plain": [
              "   index  having_IPhaving_IP_Address  URLURL_Length  Shortining_Service  \\\n",
              "0      1                          -1              1                   1   \n",
              "1      2                           1              1                   1   \n",
              "2      3                           1              0                   1   \n",
              "3      4                           1              0                   1   \n",
              "4      5                           1              0                  -1   \n",
              "\n",
              "   having_At_Symbol  double_slash_redirecting  Prefix_Suffix  \\\n",
              "0               1.0                        -1             -1   \n",
              "1               1.0                         1             -1   \n",
              "2               1.0                         1             -1   \n",
              "3               1.0                         1             -1   \n",
              "4               1.0                         1             -1   \n",
              "\n",
              "   having_Sub_Domain  SSLfinal_State  Domain_registeration_length  ...  \\\n",
              "0                 -1              -1                           -1  ...   \n",
              "1                  0               1                           -1  ...   \n",
              "2                 -1              -1                           -1  ...   \n",
              "3                 -1              -1                            1  ...   \n",
              "4                  1               1                           -1  ...   \n",
              "\n",
              "   Abnormal_URL  on_mouseover  age_of_domain  DNSRecord  web_traffic  \\\n",
              "0            -1             1             -1         -1           -1   \n",
              "1             1             1             -1         -1            0   \n",
              "2            -1             1              1         -1            1   \n",
              "3             1             1             -1         -1            1   \n",
              "4             1            -1             -1         -1            0   \n",
              "\n",
              "   Page_Rank  Google_Index  Links_pointing_to_page  Statistical_report  Result  \n",
              "0         -1             1                       1                  -1      -1  \n",
              "1         -1             1                       1                   1      -1  \n",
              "2         -1             1                       0                  -1      -1  \n",
              "3         -1             1                      -1                   1      -1  \n",
              "4         -1             1                       1                   1       1  \n",
              "\n",
              "[5 rows x 26 columns]"
            ],
            "text/html": [
              "\n",
              "  <div id=\"df-91981521-8b9a-4272-b582-4e1a73a189f2\">\n",
              "    <div class=\"colab-df-container\">\n",
              "      <div>\n",
              "<style scoped>\n",
              "    .dataframe tbody tr th:only-of-type {\n",
              "        vertical-align: middle;\n",
              "    }\n",
              "\n",
              "    .dataframe tbody tr th {\n",
              "        vertical-align: top;\n",
              "    }\n",
              "\n",
              "    .dataframe thead th {\n",
              "        text-align: right;\n",
              "    }\n",
              "</style>\n",
              "<table border=\"1\" class=\"dataframe\">\n",
              "  <thead>\n",
              "    <tr style=\"text-align: right;\">\n",
              "      <th></th>\n",
              "      <th>index</th>\n",
              "      <th>having_IPhaving_IP_Address</th>\n",
              "      <th>URLURL_Length</th>\n",
              "      <th>Shortining_Service</th>\n",
              "      <th>having_At_Symbol</th>\n",
              "      <th>double_slash_redirecting</th>\n",
              "      <th>Prefix_Suffix</th>\n",
              "      <th>having_Sub_Domain</th>\n",
              "      <th>SSLfinal_State</th>\n",
              "      <th>Domain_registeration_length</th>\n",
              "      <th>...</th>\n",
              "      <th>Abnormal_URL</th>\n",
              "      <th>on_mouseover</th>\n",
              "      <th>age_of_domain</th>\n",
              "      <th>DNSRecord</th>\n",
              "      <th>web_traffic</th>\n",
              "      <th>Page_Rank</th>\n",
              "      <th>Google_Index</th>\n",
              "      <th>Links_pointing_to_page</th>\n",
              "      <th>Statistical_report</th>\n",
              "      <th>Result</th>\n",
              "    </tr>\n",
              "  </thead>\n",
              "  <tbody>\n",
              "    <tr>\n",
              "      <th>0</th>\n",
              "      <td>1</td>\n",
              "      <td>-1</td>\n",
              "      <td>1</td>\n",
              "      <td>1</td>\n",
              "      <td>1.0</td>\n",
              "      <td>-1</td>\n",
              "      <td>-1</td>\n",
              "      <td>-1</td>\n",
              "      <td>-1</td>\n",
              "      <td>-1</td>\n",
              "      <td>...</td>\n",
              "      <td>-1</td>\n",
              "      <td>1</td>\n",
              "      <td>-1</td>\n",
              "      <td>-1</td>\n",
              "      <td>-1</td>\n",
              "      <td>-1</td>\n",
              "      <td>1</td>\n",
              "      <td>1</td>\n",
              "      <td>-1</td>\n",
              "      <td>-1</td>\n",
              "    </tr>\n",
              "    <tr>\n",
              "      <th>1</th>\n",
              "      <td>2</td>\n",
              "      <td>1</td>\n",
              "      <td>1</td>\n",
              "      <td>1</td>\n",
              "      <td>1.0</td>\n",
              "      <td>1</td>\n",
              "      <td>-1</td>\n",
              "      <td>0</td>\n",
              "      <td>1</td>\n",
              "      <td>-1</td>\n",
              "      <td>...</td>\n",
              "      <td>1</td>\n",
              "      <td>1</td>\n",
              "      <td>-1</td>\n",
              "      <td>-1</td>\n",
              "      <td>0</td>\n",
              "      <td>-1</td>\n",
              "      <td>1</td>\n",
              "      <td>1</td>\n",
              "      <td>1</td>\n",
              "      <td>-1</td>\n",
              "    </tr>\n",
              "    <tr>\n",
              "      <th>2</th>\n",
              "      <td>3</td>\n",
              "      <td>1</td>\n",
              "      <td>0</td>\n",
              "      <td>1</td>\n",
              "      <td>1.0</td>\n",
              "      <td>1</td>\n",
              "      <td>-1</td>\n",
              "      <td>-1</td>\n",
              "      <td>-1</td>\n",
              "      <td>-1</td>\n",
              "      <td>...</td>\n",
              "      <td>-1</td>\n",
              "      <td>1</td>\n",
              "      <td>1</td>\n",
              "      <td>-1</td>\n",
              "      <td>1</td>\n",
              "      <td>-1</td>\n",
              "      <td>1</td>\n",
              "      <td>0</td>\n",
              "      <td>-1</td>\n",
              "      <td>-1</td>\n",
              "    </tr>\n",
              "    <tr>\n",
              "      <th>3</th>\n",
              "      <td>4</td>\n",
              "      <td>1</td>\n",
              "      <td>0</td>\n",
              "      <td>1</td>\n",
              "      <td>1.0</td>\n",
              "      <td>1</td>\n",
              "      <td>-1</td>\n",
              "      <td>-1</td>\n",
              "      <td>-1</td>\n",
              "      <td>1</td>\n",
              "      <td>...</td>\n",
              "      <td>1</td>\n",
              "      <td>1</td>\n",
              "      <td>-1</td>\n",
              "      <td>-1</td>\n",
              "      <td>1</td>\n",
              "      <td>-1</td>\n",
              "      <td>1</td>\n",
              "      <td>-1</td>\n",
              "      <td>1</td>\n",
              "      <td>-1</td>\n",
              "    </tr>\n",
              "    <tr>\n",
              "      <th>4</th>\n",
              "      <td>5</td>\n",
              "      <td>1</td>\n",
              "      <td>0</td>\n",
              "      <td>-1</td>\n",
              "      <td>1.0</td>\n",
              "      <td>1</td>\n",
              "      <td>-1</td>\n",
              "      <td>1</td>\n",
              "      <td>1</td>\n",
              "      <td>-1</td>\n",
              "      <td>...</td>\n",
              "      <td>1</td>\n",
              "      <td>-1</td>\n",
              "      <td>-1</td>\n",
              "      <td>-1</td>\n",
              "      <td>0</td>\n",
              "      <td>-1</td>\n",
              "      <td>1</td>\n",
              "      <td>1</td>\n",
              "      <td>1</td>\n",
              "      <td>1</td>\n",
              "    </tr>\n",
              "  </tbody>\n",
              "</table>\n",
              "<p>5 rows × 26 columns</p>\n",
              "</div>\n",
              "      <button class=\"colab-df-convert\" onclick=\"convertToInteractive('df-91981521-8b9a-4272-b582-4e1a73a189f2')\"\n",
              "              title=\"Convert this dataframe to an interactive table.\"\n",
              "              style=\"display:none;\">\n",
              "        \n",
              "  <svg xmlns=\"http://www.w3.org/2000/svg\" height=\"24px\"viewBox=\"0 0 24 24\"\n",
              "       width=\"24px\">\n",
              "    <path d=\"M0 0h24v24H0V0z\" fill=\"none\"/>\n",
              "    <path d=\"M18.56 5.44l.94 2.06.94-2.06 2.06-.94-2.06-.94-.94-2.06-.94 2.06-2.06.94zm-11 1L8.5 8.5l.94-2.06 2.06-.94-2.06-.94L8.5 2.5l-.94 2.06-2.06.94zm10 10l.94 2.06.94-2.06 2.06-.94-2.06-.94-.94-2.06-.94 2.06-2.06.94z\"/><path d=\"M17.41 7.96l-1.37-1.37c-.4-.4-.92-.59-1.43-.59-.52 0-1.04.2-1.43.59L10.3 9.45l-7.72 7.72c-.78.78-.78 2.05 0 2.83L4 21.41c.39.39.9.59 1.41.59.51 0 1.02-.2 1.41-.59l7.78-7.78 2.81-2.81c.8-.78.8-2.07 0-2.86zM5.41 20L4 18.59l7.72-7.72 1.47 1.35L5.41 20z\"/>\n",
              "  </svg>\n",
              "      </button>\n",
              "      \n",
              "  <style>\n",
              "    .colab-df-container {\n",
              "      display:flex;\n",
              "      flex-wrap:wrap;\n",
              "      gap: 12px;\n",
              "    }\n",
              "\n",
              "    .colab-df-convert {\n",
              "      background-color: #E8F0FE;\n",
              "      border: none;\n",
              "      border-radius: 50%;\n",
              "      cursor: pointer;\n",
              "      display: none;\n",
              "      fill: #1967D2;\n",
              "      height: 32px;\n",
              "      padding: 0 0 0 0;\n",
              "      width: 32px;\n",
              "    }\n",
              "\n",
              "    .colab-df-convert:hover {\n",
              "      background-color: #E2EBFA;\n",
              "      box-shadow: 0px 1px 2px rgba(60, 64, 67, 0.3), 0px 1px 3px 1px rgba(60, 64, 67, 0.15);\n",
              "      fill: #174EA6;\n",
              "    }\n",
              "\n",
              "    [theme=dark] .colab-df-convert {\n",
              "      background-color: #3B4455;\n",
              "      fill: #D2E3FC;\n",
              "    }\n",
              "\n",
              "    [theme=dark] .colab-df-convert:hover {\n",
              "      background-color: #434B5C;\n",
              "      box-shadow: 0px 1px 3px 1px rgba(0, 0, 0, 0.15);\n",
              "      filter: drop-shadow(0px 1px 2px rgba(0, 0, 0, 0.3));\n",
              "      fill: #FFFFFF;\n",
              "    }\n",
              "  </style>\n",
              "\n",
              "      <script>\n",
              "        const buttonEl =\n",
              "          document.querySelector('#df-91981521-8b9a-4272-b582-4e1a73a189f2 button.colab-df-convert');\n",
              "        buttonEl.style.display =\n",
              "          google.colab.kernel.accessAllowed ? 'block' : 'none';\n",
              "\n",
              "        async function convertToInteractive(key) {\n",
              "          const element = document.querySelector('#df-91981521-8b9a-4272-b582-4e1a73a189f2');\n",
              "          const dataTable =\n",
              "            await google.colab.kernel.invokeFunction('convertToInteractive',\n",
              "                                                     [key], {});\n",
              "          if (!dataTable) return;\n",
              "\n",
              "          const docLinkHtml = 'Like what you see? Visit the ' +\n",
              "            '<a target=\"_blank\" href=https://colab.research.google.com/notebooks/data_table.ipynb>data table notebook</a>'\n",
              "            + ' to learn more about interactive tables.';\n",
              "          element.innerHTML = '';\n",
              "          dataTable['output_type'] = 'display_data';\n",
              "          await google.colab.output.renderOutput(dataTable, element);\n",
              "          const docLink = document.createElement('div');\n",
              "          docLink.innerHTML = docLinkHtml;\n",
              "          element.appendChild(docLink);\n",
              "        }\n",
              "      </script>\n",
              "    </div>\n",
              "  </div>\n",
              "  "
            ]
          },
          "metadata": {},
          "execution_count": 11
        }
      ]
    },
    {
      "cell_type": "code",
      "source": [
        "# print(df['having_At_Symbol'])\n",
        "sns.heatmap(df.isnull())\n",
        "plt.savefig('clean_heatmap.png')"
      ],
      "metadata": {
        "colab": {
          "base_uri": "https://localhost:8080/",
          "height": 352
        },
        "id": "m3bIOHh9YMnl",
        "outputId": "e91e8c7b-2721-4226-f8a6-4b6bde78777d"
      },
      "execution_count": 12,
      "outputs": [
        {
          "output_type": "display_data",
          "data": {
            "text/plain": [
              "<Figure size 432x288 with 2 Axes>"
            ],
            "image/png": "[encoded data removed]"
          },
          "metadata": {
            "needs_background": "light"
          }
        }
      ]
    },
    {
      "cell_type": "code",
      "source": [
        "sns.set_style('whitegrid')\n",
        "sns.countplot(x='having_At_Symbol',data=df)"
      ],
      "metadata": {
        "colab": {
          "base_uri": "https://localhost:8080/",
          "height": 297
        },
        "id": "HbjBPM7tYPMG",
        "outputId": "82c46190-2eee-461a-c867-4cb059ae0d10"
      },
      "execution_count": 13,
      "outputs": [
        {
          "output_type": "execute_result",
          "data": {
            "text/plain": [
              "<matplotlib.axes._subplots.AxesSubplot at 0x7f025cab7a90>"
            ]
          },
          "metadata": {},
          "execution_count": 13
        },
        {
          "output_type": "display_data",
          "data": {
            "text/plain": [
              "<Figure size 432x288 with 1 Axes>"
            ],
            "image/png": "[encoded data removed]"
          },
          "metadata": {}
        }
      ]
    },
    {
      "cell_type": "code",
      "source": [
        "sns.countplot(x='having_IPhaving_IP_Address',data=df)"
      ],
      "metadata": {
        "colab": {
          "base_uri": "https://localhost:8080/",
          "height": 297
        },
        "id": "h5ICQZWDYTIN",
        "outputId": "c61bec91-ac5f-410b-c7c6-36c99dd7beaa"
      },
      "execution_count": 14,
      "outputs": [
        {
          "output_type": "execute_result",
          "data": {
            "text/plain": [
              "<matplotlib.axes._subplots.AxesSubplot at 0x7f025ca3ea90>"
            ]
          },
          "metadata": {},
          "execution_count": 14
        },
        {
          "output_type": "display_data",
          "data": {
            "text/plain": [
              "<Figure size 432x288 with 1 Axes>"
            ],
            "image/png": "[encoded data removed]"
          },
          "metadata": {}
        }
      ]
    },
    {
      "cell_type": "code",
      "source": [
        "sns.countplot(x='web_traffic', data=df)"
      ],
      "metadata": {
        "colab": {
          "base_uri": "https://localhost:8080/",
          "height": 297
        },
        "id": "RSFik0t1YWB1",
        "outputId": "4c4f19d6-b10c-4830-b4e2-9a87edb620b1"
      },
      "execution_count": 15,
      "outputs": [
        {
          "output_type": "execute_result",
          "data": {
            "text/plain": [
              "<matplotlib.axes._subplots.AxesSubplot at 0x7f025cbea190>"
            ]
          },
          "metadata": {},
          "execution_count": 15
        },
        {
          "output_type": "display_data",
          "data": {
            "text/plain": [
              "<Figure size 432x288 with 1 Axes>"
            ],
            "image/png": "[encoded data removed]"
          },
          "metadata": {}
        }
      ]
    },
    {
      "cell_type": "code",
      "source": [
        "sns.countplot(x='Result', data=df)"
      ],
      "metadata": {
        "colab": {
          "base_uri": "https://localhost:8080/",
          "height": 296
        },
        "id": "jrZ20sUdYZW2",
        "outputId": "87bb17cd-ca41-42b2-f811-4fb965b9be00"
      },
      "execution_count": 16,
      "outputs": [
        {
          "output_type": "execute_result",
          "data": {
            "text/plain": [
              "<matplotlib.axes._subplots.AxesSubplot at 0x7f025c9ed690>"
            ]
          },
          "metadata": {},
          "execution_count": 16
        },
        {
          "output_type": "display_data",
          "data": {
            "text/plain": [
              "<Figure size 432x288 with 1 Axes>"
            ],
            "image/png": "[encoded data removed]"
          },
          "metadata": {}
        }
      ]
    },
    {
      "cell_type": "code",
      "source": [
        "sns.countplot(x='Links_pointing_to_page', data=df)"
      ],
      "metadata": {
        "colab": {
          "base_uri": "https://localhost:8080/",
          "height": 297
        },
        "id": "zXl4hjkwYbtn",
        "outputId": "51539045-e15e-44b8-9a50-171eb44b83e1"
      },
      "execution_count": 17,
      "outputs": [
        {
          "output_type": "execute_result",
          "data": {
            "text/plain": [
              "<matplotlib.axes._subplots.AxesSubplot at 0x7f025cade510>"
            ]
          },
          "metadata": {},
          "execution_count": 17
        },
        {
          "output_type": "display_data",
          "data": {
            "text/plain": [
              "<Figure size 432x288 with 1 Axes>"
            ],
            "image/png": "[encoded data removed]"
          },
          "metadata": {}
        }
      ]
    },
    {
      "cell_type": "code",
      "source": [
        "sns.countplot(x='Result', hue='having_At_Symbol', data=df)"
      ],
      "metadata": {
        "colab": {
          "base_uri": "https://localhost:8080/",
          "height": 296
        },
        "id": "kMriPYHdYdjI",
        "outputId": "848ae117-d1c7-487f-a4d4-1818ed373b1a"
      },
      "execution_count": 18,
      "outputs": [
        {
          "output_type": "execute_result",
          "data": {
            "text/plain": [
              "<matplotlib.axes._subplots.AxesSubplot at 0x7f025c920ad0>"
            ]
          },
          "metadata": {},
          "execution_count": 18
        },
        {
          "output_type": "display_data",
          "data": {
            "text/plain": [
              "<Figure size 432x288 with 1 Axes>"
            ],
            "image/png": "[encoded data removed]"
          },
          "metadata": {}
        }
      ]
    },
    {
      "cell_type": "code",
      "source": [
        "sns.distplot(df['Result'], color='darkred')"
      ],
      "metadata": {
        "colab": {
          "base_uri": "https://localhost:8080/",
          "height": 355
        },
        "id": "PWbxtmuWYfXP",
        "outputId": "0e68d99e-9bbb-4e7d-cb29-23514af65e00"
      },
      "execution_count": 19,
      "outputs": [
        {
          "output_type": "stream",
          "name": "stderr",
          "text": [
            "/usr/local/lib/python3.7/dist-packages/seaborn/distributions.py:2619: FutureWarning: `distplot` is a deprecated function and will be removed in a future version. Please adapt your code to use either `displot` (a figure-level function with similar flexibility) or `histplot` (an axes-level function for histograms).\n",
            "  warnings.warn(msg, FutureWarning)\n"
          ]
        },
        {
          "output_type": "execute_result",
          "data": {
            "text/plain": [
              "<matplotlib.axes._subplots.AxesSubplot at 0x7f025c940950>"
            ]
          },
          "metadata": {},
          "execution_count": 19
        },
        {
          "output_type": "display_data",
          "data": {
            "text/plain": [
              "<Figure size 432x288 with 1 Axes>"
            ],
            "image/png": "[encoded data removed]"
          },
          "metadata": {}
        }
      ]
    },
    {
      "cell_type": "code",
      "source": [
        "sns.distplot(df['Links_pointing_to_page'])"
      ],
      "metadata": {
        "colab": {
          "base_uri": "https://localhost:8080/",
          "height": 352
        },
        "id": "zNgVoHXyYkQZ",
        "outputId": "a52716f2-c3a6-45ad-ff81-8ea0b8ac3f8d"
      },
      "execution_count": 20,
      "outputs": [
        {
          "output_type": "stream",
          "name": "stderr",
          "text": [
            "/usr/local/lib/python3.7/dist-packages/seaborn/distributions.py:2619: FutureWarning: `distplot` is a deprecated function and will be removed in a future version. Please adapt your code to use either `displot` (a figure-level function with similar flexibility) or `histplot` (an axes-level function for histograms).\n",
            "  warnings.warn(msg, FutureWarning)\n"
          ]
        },
        {
          "output_type": "execute_result",
          "data": {
            "text/plain": [
              "<matplotlib.axes._subplots.AxesSubplot at 0x7f025c8683d0>"
            ]
          },
          "metadata": {},
          "execution_count": 20
        },
        {
          "output_type": "display_data",
          "data": {
            "text/plain": [
              "<Figure size 432x288 with 1 Axes>"
            ],
            "image/png": "[encoded data removed]"
          },
          "metadata": {}
        }
      ]
    },
    {
      "cell_type": "code",
      "source": [
        "sns.displot(df['web_traffic'])"
      ],
      "metadata": {
        "colab": {
          "base_uri": "https://localhost:8080/",
          "height": 386
        },
        "id": "UBck6Yj1YnWJ",
        "outputId": "abe39b78-19f5-44e2-f898-d31e38fbe713"
      },
      "execution_count": 21,
      "outputs": [
        {
          "output_type": "execute_result",
          "data": {
            "text/plain": [
              "<seaborn.axisgrid.FacetGrid at 0x7f025c6baf50>"
            ]
          },
          "metadata": {},
          "execution_count": 21
        },
        {
          "output_type": "display_data",
          "data": {
            "text/plain": [
              "<Figure size 360x360 with 1 Axes>"
            ],
            "image/png": "[encoded data removed]"
          },
          "metadata": {}
        }
      ]
    },
    {
      "cell_type": "code",
      "source": [
        "a=len(df[df.Result==0])\n",
        "b=len(df[df.Result==-1])\n",
        "c=len(df[df.Result==1])"
      ],
      "metadata": {
        "id": "vsQzeziOYq03"
      },
      "execution_count": 22,
      "outputs": []
    },
    {
      "cell_type": "code",
      "source": [
        "print(\"Count of Legitimate Websites = \", b)\n",
        "print(\"Count of Suspicious Websites = \", a)\n",
        "print(\"Count of Phishy Websites = \", c)"
      ],
      "metadata": {
        "colab": {
          "base_uri": "https://localhost:8080/"
        },
        "id": "guMzkF6iYsmQ",
        "outputId": "bc19019c-5cf6-4f6e-e8b4-930e9e279372"
      },
      "execution_count": 23,
      "outputs": [
        {
          "output_type": "stream",
          "name": "stdout",
          "text": [
            "Count of Legitimate Websites =  4898\n",
            "Count of Suspicious Websites =  0\n",
            "Count of Phishy Websites =  6157\n"
          ]
        }
      ]
    },
    {
      "cell_type": "code",
      "source": [
        "df.drop(['index'],axis=1,inplace=True)\n",
        "print(len(df.columns))\n"
      ],
      "metadata": {
        "colab": {
          "base_uri": "https://localhost:8080/"
        },
        "id": "6N75qjm5YvdY",
        "outputId": "84a11a1f-dce7-4148-f675-45e6dc12cf44"
      },
      "execution_count": 26,
      "outputs": [
        {
          "output_type": "stream",
          "name": "stdout",
          "text": [
            "25\n"
          ]
        }
      ]
    },
    {
      "cell_type": "code",
      "source": [
        "df.plot.hist(subplots=True,layout=(5,5),figsize=(15, 15), bins=20)"
      ],
      "metadata": {
        "colab": {
          "base_uri": "https://localhost:8080/",
          "height": 1000
        },
        "id": "dlmUM8MXeN7C",
        "outputId": "9e096d71-e156-4cb1-b761-aef895776281"
      },
      "execution_count": 27,
      "outputs": [
        {
          "output_type": "execute_result",
          "data": {
            "text/plain": [
              "array([[<matplotlib.axes._subplots.AxesSubplot object at 0x7f025cc218d0>,\n",
              "        <matplotlib.axes._subplots.AxesSubplot object at 0x7f025cc27fd0>,\n",
              "        <matplotlib.axes._subplots.AxesSubplot object at 0x7f025cc21a10>,\n",
              "        <matplotlib.axes._subplots.AxesSubplot object at 0x7f025d20acd0>,\n",
              "        <matplotlib.axes._subplots.AxesSubplot object at 0x7f025d217b90>],\n",
              "       [<matplotlib.axes._subplots.AxesSubplot object at 0x7f025faf01d0>,\n",
              "        <matplotlib.axes._subplots.AxesSubplot object at 0x7f025c6e5590>,\n",
              "        <matplotlib.axes._subplots.AxesSubplot object at 0x7f025cb3b810>,\n",
              "        <matplotlib.axes._subplots.AxesSubplot object at 0x7f025cb3b850>,\n",
              "        <matplotlib.axes._subplots.AxesSubplot object at 0x7f025cc7dc90>],\n",
              "       [<matplotlib.axes._subplots.AxesSubplot object at 0x7f025c67f250>,\n",
              "        <matplotlib.axes._subplots.AxesSubplot object at 0x7f025c638590>,\n",
              "        <matplotlib.axes._subplots.AxesSubplot object at 0x7f025c66f8d0>,\n",
              "        <matplotlib.axes._subplots.AxesSubplot object at 0x7f025c629c10>,\n",
              "        <matplotlib.axes._subplots.AxesSubplot object at 0x7f025c5e4f50>],\n",
              "       [<matplotlib.axes._subplots.AxesSubplot object at 0x7f025c5aa2d0>,\n",
              "        <matplotlib.axes._subplots.AxesSubplot object at 0x7f025c562610>,\n",
              "        <matplotlib.axes._subplots.AxesSubplot object at 0x7f025c519950>,\n",
              "        <matplotlib.axes._subplots.AxesSubplot object at 0x7f025c4d2c90>,\n",
              "        <matplotlib.axes._subplots.AxesSubplot object at 0x7f025c481b10>],\n",
              "       [<matplotlib.axes._subplots.AxesSubplot object at 0x7f025c450350>,\n",
              "        <matplotlib.axes._subplots.AxesSubplot object at 0x7f025c408690>,\n",
              "        <matplotlib.axes._subplots.AxesSubplot object at 0x7f025c3c29d0>,\n",
              "        <matplotlib.axes._subplots.AxesSubplot object at 0x7f025c37cd10>,\n",
              "        <matplotlib.axes._subplots.AxesSubplot object at 0x7f025c3a8b90>]],\n",
              "      dtype=object)"
            ]
          },
          "metadata": {},
          "execution_count": 27
        },
        {
          "output_type": "display_data",
          "data": {
            "text/plain": [
              "<Figure size 1080x1080 with 25 Axes>"
            ],
            "image/png": "[encoded data removed]"
          },
          "metadata": {}
        }
      ]
    },
    {
      "cell_type": "code",
      "source": [
        "df.corr()"
      ],
      "metadata": {
        "colab": {
          "base_uri": "https://localhost:8080/",
          "height": 927
        },
        "id": "xCpme3-hfJVw",
        "outputId": "dc787de4-7123-4636-cdc1-87559f662c41"
      },
      "execution_count": 29,
      "outputs": [
        {
          "output_type": "execute_result",
          "data": {
            "text/plain": [
              "                             having_IPhaving_IP_Address  URLURL_Length  \\\n",
              "having_IPhaving_IP_Address                     1.000000      -0.052411   \n",
              "URLURL_Length                                 -0.052411       1.000000   \n",
              "Shortining_Service                             0.403461      -0.097881   \n",
              "having_At_Symbol                              -0.000597       0.000010   \n",
              "double_slash_redirecting                       0.397389      -0.081247   \n",
              "Prefix_Suffix                                 -0.005257       0.055247   \n",
              "having_Sub_Domain                             -0.080745       0.003997   \n",
              "SSLfinal_State                                 0.071414       0.048754   \n",
              "Domain_registeration_length                   -0.022739      -0.221892   \n",
              "port                                           0.060979       0.000323   \n",
              "HTTPS_token                                    0.363534      -0.089383   \n",
              "Request_URL                                    0.029773       0.246348   \n",
              "URL_of_Anchor                                  0.099847      -0.023396   \n",
              "Links_in_tags                                  0.006212       0.052869   \n",
              "SFH                                           -0.010962       0.414196   \n",
              "Abnormal_URL                                   0.336549      -0.106761   \n",
              "on_mouseover                                   0.084059      -0.045103   \n",
              "age_of_domain                                 -0.010446       0.179426   \n",
              "DNSRecord                                     -0.050733      -0.040823   \n",
              "web_traffic                                    0.002922       0.008993   \n",
              "Page_Rank                                     -0.091774       0.183518   \n",
              "Google_Index                                   0.029153       0.002902   \n",
              "Links_pointing_to_page                        -0.339065      -0.022987   \n",
              "Statistical_report                            -0.019103      -0.067153   \n",
              "Result                                         0.094160       0.057430   \n",
              "\n",
              "                             Shortining_Service  having_At_Symbol  \\\n",
              "having_IPhaving_IP_Address             0.403461         -0.000597   \n",
              "URLURL_Length                         -0.097881          0.000010   \n",
              "Shortining_Service                     1.000000          0.013697   \n",
              "having_At_Symbol                       0.013697          1.000000   \n",
              "double_slash_redirecting               0.842796          0.007314   \n",
              "Prefix_Suffix                         -0.080471         -0.004048   \n",
              "having_Sub_Domain                     -0.041916          0.000930   \n",
              "SSLfinal_State                        -0.061426          0.003444   \n",
              "Domain_registeration_length            0.060923         -0.007424   \n",
              "port                                   0.002201          0.031804   \n",
              "HTTPS_token                            0.757838          0.014041   \n",
              "Request_URL                           -0.037235         -0.002731   \n",
              "URL_of_Anchor                          0.000561          0.004890   \n",
              "Links_in_tags                         -0.133379          0.008423   \n",
              "SFH                                   -0.022723          0.006004   \n",
              "Abnormal_URL                           0.739290          0.024174   \n",
              "on_mouseover                           0.062383          0.032616   \n",
              "age_of_domain                         -0.052596          0.029240   \n",
              "DNSRecord                              0.436064          0.028325   \n",
              "web_traffic                           -0.047074          0.003675   \n",
              "Page_Rank                              0.014591         -0.004955   \n",
              "Google_Index                           0.155844         -0.007486   \n",
              "Links_pointing_to_page                -0.198410         -0.026939   \n",
              "Statistical_report                     0.085461          0.012795   \n",
              "Result                                -0.067966          0.006446   \n",
              "\n",
              "                             double_slash_redirecting  Prefix_Suffix  \\\n",
              "having_IPhaving_IP_Address                   0.397389      -0.005257   \n",
              "URLURL_Length                               -0.081247       0.055247   \n",
              "Shortining_Service                           0.842796      -0.080471   \n",
              "having_At_Symbol                             0.007314      -0.004048   \n",
              "double_slash_redirecting                     1.000000      -0.085590   \n",
              "Prefix_Suffix                               -0.085590       1.000000   \n",
              "having_Sub_Domain                           -0.043079       0.087891   \n",
              "SSLfinal_State                              -0.036200       0.261391   \n",
              "Domain_registeration_length                  0.047464      -0.096799   \n",
              "port                                         0.025060      -0.022546   \n",
              "HTTPS_token                                  0.760799      -0.070153   \n",
              "Request_URL                                 -0.026368       0.098675   \n",
              "URL_of_Anchor                               -0.005036       0.348871   \n",
              "Links_in_tags                               -0.125583       0.100254   \n",
              "SFH                                         -0.041672       0.001326   \n",
              "Abnormal_URL                                 0.723724      -0.077620   \n",
              "on_mouseover                                 0.086635       0.012578   \n",
              "age_of_domain                               -0.050107       0.074116   \n",
              "DNSRecord                                    0.431409      -0.016556   \n",
              "web_traffic                                 -0.062369       0.110598   \n",
              "Page_Rank                                   -0.003132      -0.006834   \n",
              "Google_Index                                 0.178415       0.067781   \n",
              "Links_pointing_to_page                      -0.194165       0.067423   \n",
              "Statistical_report                           0.070390      -0.002763   \n",
              "Result                                      -0.038608       0.348606   \n",
              "\n",
              "                             having_Sub_Domain  SSLfinal_State  \\\n",
              "having_IPhaving_IP_Address           -0.080745        0.071414   \n",
              "URLURL_Length                         0.003997        0.048754   \n",
              "Shortining_Service                   -0.041916       -0.061426   \n",
              "having_At_Symbol                      0.000930        0.003444   \n",
              "double_slash_redirecting             -0.043079       -0.036200   \n",
              "Prefix_Suffix                         0.087891        0.261391   \n",
              "having_Sub_Domain                     1.000000        0.267649   \n",
              "SSLfinal_State                        0.267649        1.000000   \n",
              "Domain_registeration_length          -0.082839       -0.193622   \n",
              "port                                  0.004863        0.027473   \n",
              "HTTPS_token                          -0.037239       -0.029941   \n",
              "Request_URL                           0.104857        0.193054   \n",
              "URL_of_Anchor                         0.229491        0.535786   \n",
              "Links_in_tags                         0.093646        0.176825   \n",
              "SFH                                   0.096089        0.171402   \n",
              "Abnormal_URL                         -0.034908       -0.046245   \n",
              "on_mouseover                         -0.018082        0.023586   \n",
              "age_of_domain                         0.119254        0.162809   \n",
              "DNSRecord                             0.125493        0.050972   \n",
              "web_traffic                          -0.005764        0.258768   \n",
              "Page_Rank                             0.120730        0.074545   \n",
              "Google_Index                          0.057673        0.096051   \n",
              "Links_pointing_to_page               -0.010526       -0.011710   \n",
              "Statistical_report                    0.081627        0.063411   \n",
              "Result                                0.298323        0.714741   \n",
              "\n",
              "                             Domain_registeration_length      port  ...  \\\n",
              "having_IPhaving_IP_Address                     -0.022739  0.060979  ...   \n",
              "URLURL_Length                                  -0.221892  0.000323  ...   \n",
              "Shortining_Service                              0.060923  0.002201  ...   \n",
              "having_At_Symbol                               -0.007424  0.031804  ...   \n",
              "double_slash_redirecting                        0.047464  0.025060  ...   \n",
              "Prefix_Suffix                                  -0.096799 -0.022546  ...   \n",
              "having_Sub_Domain                              -0.082839  0.004863  ...   \n",
              "SSLfinal_State                                 -0.193622  0.027473  ...   \n",
              "Domain_registeration_length                     1.000000  0.022478  ...   \n",
              "port                                            0.022478  1.000000  ...   \n",
              "HTTPS_token                                     0.059161  0.004999  ...   \n",
              "Request_URL                                    -0.609970  0.027561  ...   \n",
              "URL_of_Anchor                                  -0.160257  0.039891  ...   \n",
              "Links_in_tags                                  -0.101084 -0.066502  ...   \n",
              "SFH                                            -0.136422  0.006672  ...   \n",
              "Abnormal_URL                                    0.058109  0.054126  ...   \n",
              "on_mouseover                                    0.023784  0.623298  ...   \n",
              "age_of_domain                                  -0.062851  0.008459  ...   \n",
              "DNSRecord                                      -0.010477  0.054849  ...   \n",
              "web_traffic                                    -0.134454 -0.028543  ...   \n",
              "Page_Rank                                      -0.059898  0.017954  ...   \n",
              "Google_Index                                   -0.039766 -0.005413  ...   \n",
              "Links_pointing_to_page                          0.122672 -0.139104  ...   \n",
              "Statistical_report                             -0.002212  0.343987  ...   \n",
              "Result                                         -0.225789  0.036419  ...   \n",
              "\n",
              "                             Abnormal_URL  on_mouseover  age_of_domain  \\\n",
              "having_IPhaving_IP_Address       0.336549      0.084059      -0.010446   \n",
              "URLURL_Length                   -0.106761     -0.045103       0.179426   \n",
              "Shortining_Service               0.739290      0.062383      -0.052596   \n",
              "having_At_Symbol                 0.024174      0.032616       0.029240   \n",
              "double_slash_redirecting         0.723724      0.086635      -0.050107   \n",
              "Prefix_Suffix                   -0.077620      0.012578       0.074116   \n",
              "having_Sub_Domain               -0.034908     -0.018082       0.119254   \n",
              "SSLfinal_State                  -0.046245      0.023586       0.162809   \n",
              "Domain_registeration_length      0.058109      0.023784      -0.062851   \n",
              "port                             0.054126      0.623298       0.008459   \n",
              "HTTPS_token                      0.716287      0.110113      -0.049632   \n",
              "Request_URL                     -0.036034      0.008144       0.090455   \n",
              "URL_of_Anchor                   -0.010585      0.067742       0.075508   \n",
              "Links_in_tags                   -0.116065     -0.077670       0.078057   \n",
              "SFH                             -0.030752      0.007579      -0.015840   \n",
              "Abnormal_URL                     1.000000      0.117638      -0.032533   \n",
              "on_mouseover                     0.117638      1.000000       0.013306   \n",
              "age_of_domain                   -0.032533      0.013306       1.000000   \n",
              "DNSRecord                        0.366833      0.087161      -0.034082   \n",
              "web_traffic                     -0.052416     -0.036531       0.089949   \n",
              "Page_Rank                        0.007318      0.015634      -0.147194   \n",
              "Google_Index                     0.124751     -0.006510      -0.028471   \n",
              "Links_pointing_to_page          -0.161027     -0.038551       0.040407   \n",
              "Statistical_report               0.186399      0.277347       0.009115   \n",
              "Result                          -0.060488      0.041838       0.121496   \n",
              "\n",
              "                             DNSRecord  web_traffic  Page_Rank  Google_Index  \\\n",
              "having_IPhaving_IP_Address   -0.050733     0.002922  -0.091774      0.029153   \n",
              "URLURL_Length                -0.040823     0.008993   0.183518      0.002902   \n",
              "Shortining_Service            0.436064    -0.047074   0.014591      0.155844   \n",
              "having_At_Symbol              0.028325     0.003675  -0.004955     -0.007486   \n",
              "double_slash_redirecting      0.431409    -0.062369  -0.003132      0.178415   \n",
              "Prefix_Suffix                -0.016556     0.110598  -0.006834      0.067781   \n",
              "having_Sub_Domain             0.125493    -0.005764   0.120730      0.057673   \n",
              "SSLfinal_State                0.050972     0.258768   0.074545      0.096051   \n",
              "Domain_registeration_length  -0.010477    -0.134454  -0.059898     -0.039766   \n",
              "port                          0.054849    -0.028543   0.017954     -0.005413   \n",
              "HTTPS_token                   0.395387    -0.039708   0.021104      0.115450   \n",
              "Request_URL                   0.015933     0.161166   0.055734      0.046409   \n",
              "URL_of_Anchor                 0.093288     0.326293   0.099261      0.038816   \n",
              "Links_in_tags                -0.038545     0.064548  -0.006450      0.045557   \n",
              "SFH                           0.034440     0.052706   0.001979      0.027588   \n",
              "Abnormal_URL                  0.366833    -0.052416   0.007318      0.124751   \n",
              "on_mouseover                  0.087161    -0.036531   0.015634     -0.006510   \n",
              "age_of_domain                -0.034082     0.089949  -0.147194     -0.028471   \n",
              "DNSRecord                     1.000000     0.048650   0.137860      0.137509   \n",
              "web_traffic                   0.048650     1.000000   0.030984     -0.012584   \n",
              "Page_Rank                     0.137860     0.030984   1.000000      0.032431   \n",
              "Google_Index                  0.137509    -0.012584   0.032431      1.000000   \n",
              "Links_pointing_to_page       -0.318266    -0.019860  -0.028216     -0.038777   \n",
              "Statistical_report            0.136860     0.009223   0.031049     -0.005103   \n",
              "Result                        0.075718     0.346103   0.104645      0.128950   \n",
              "\n",
              "                             Links_pointing_to_page  Statistical_report  \\\n",
              "having_IPhaving_IP_Address                -0.339065           -0.019103   \n",
              "URLURL_Length                             -0.022987           -0.067153   \n",
              "Shortining_Service                        -0.198410            0.085461   \n",
              "having_At_Symbol                          -0.026939            0.012795   \n",
              "double_slash_redirecting                  -0.194165            0.070390   \n",
              "Prefix_Suffix                              0.067423           -0.002763   \n",
              "having_Sub_Domain                         -0.010526            0.081627   \n",
              "SSLfinal_State                            -0.011710            0.063411   \n",
              "Domain_registeration_length                0.122672           -0.002212   \n",
              "port                                      -0.139104            0.343987   \n",
              "HTTPS_token                               -0.128724            0.096187   \n",
              "Request_URL                               -0.067109            0.035412   \n",
              "URL_of_Anchor                              0.018651            0.077377   \n",
              "Links_in_tags                              0.013561           -0.087343   \n",
              "SFH                                       -0.009068           -0.005289   \n",
              "Abnormal_URL                              -0.161027            0.186399   \n",
              "on_mouseover                              -0.038551            0.277347   \n",
              "age_of_domain                              0.040407            0.009115   \n",
              "DNSRecord                                 -0.318266            0.136860   \n",
              "web_traffic                               -0.019860            0.009223   \n",
              "Page_Rank                                 -0.028216            0.031049   \n",
              "Google_Index                              -0.038777           -0.005103   \n",
              "Links_pointing_to_page                     1.000000           -0.016817   \n",
              "Statistical_report                        -0.016817            1.000000   \n",
              "Result                                     0.032574            0.079857   \n",
              "\n",
              "                               Result  \n",
              "having_IPhaving_IP_Address   0.094160  \n",
              "URLURL_Length                0.057430  \n",
              "Shortining_Service          -0.067966  \n",
              "having_At_Symbol             0.006446  \n",
              "double_slash_redirecting    -0.038608  \n",
              "Prefix_Suffix                0.348606  \n",
              "having_Sub_Domain            0.298323  \n",
              "SSLfinal_State               0.714741  \n",
              "Domain_registeration_length -0.225789  \n",
              "port                         0.036419  \n",
              "HTTPS_token                 -0.039854  \n",
              "Request_URL                  0.253372  \n",
              "URL_of_Anchor                0.692935  \n",
              "Links_in_tags                0.248229  \n",
              "SFH                          0.221419  \n",
              "Abnormal_URL                -0.060488  \n",
              "on_mouseover                 0.041838  \n",
              "age_of_domain                0.121496  \n",
              "DNSRecord                    0.075718  \n",
              "web_traffic                  0.346103  \n",
              "Page_Rank                    0.104645  \n",
              "Google_Index                 0.128950  \n",
              "Links_pointing_to_page       0.032574  \n",
              "Statistical_report           0.079857  \n",
              "Result                       1.000000  \n",
              "\n",
              "[25 rows x 25 columns]"
            ],
            "text/html": [
              "\n",
              "  <div id=\"df-1ddeb555-d85f-4f8e-8568-de5dd617c7ea\">\n",
              "    <div class=\"colab-df-container\">\n",
              "      <div>\n",
              "<style scoped>\n",
              "    .dataframe tbody tr th:only-of-type {\n",
              "        vertical-align: middle;\n",
              "    }\n",
              "\n",
              "    .dataframe tbody tr th {\n",
              "        vertical-align: top;\n",
              "    }\n",
              "\n",
              "    .dataframe thead th {\n",
              "        text-align: right;\n",
              "    }\n",
              "</style>\n",
              "<table border=\"1\" class=\"dataframe\">\n",
              "  <thead>\n",
              "    <tr style=\"text-align: right;\">\n",
              "      <th></th>\n",
              "      <th>having_IPhaving_IP_Address</th>\n",
              "      <th>URLURL_Length</th>\n",
              "      <th>Shortining_Service</th>\n",
              "      <th>having_At_Symbol</th>\n",
              "      <th>double_slash_redirecting</th>\n",
              "      <th>Prefix_Suffix</th>\n",
              "      <th>having_Sub_Domain</th>\n",
              "      <th>SSLfinal_State</th>\n",
              "      <th>Domain_registeration_length</th>\n",
              "      <th>port</th>\n",
              "      <th>...</th>\n",
              "      <th>Abnormal_URL</th>\n",
              "      <th>on_mouseover</th>\n",
              "      <th>age_of_domain</th>\n",
              "      <th>DNSRecord</th>\n",
              "      <th>web_traffic</th>\n",
              "      <th>Page_Rank</th>\n",
              "      <th>Google_Index</th>\n",
              "      <th>Links_pointing_to_page</th>\n",
              "      <th>Statistical_report</th>\n",
              "      <th>Result</th>\n",
              "    </tr>\n",
              "  </thead>\n",
              "  <tbody>\n",
              "    <tr>\n",
              "      <th>having_IPhaving_IP_Address</th>\n",
              "      <td>1.000000</td>\n",
              "      <td>-0.052411</td>\n",
              "      <td>0.403461</td>\n",
              "      <td>-0.000597</td>\n",
              "      <td>0.397389</td>\n",
              "      <td>-0.005257</td>\n",
              "      <td>-0.080745</td>\n",
              "      <td>0.071414</td>\n",
              "      <td>-0.022739</td>\n",
              "      <td>0.060979</td>\n",
              "      <td>...</td>\n",
              "      <td>0.336549</td>\n",
              "      <td>0.084059</td>\n",
              "      <td>-0.010446</td>\n",
              "      <td>-0.050733</td>\n",
              "      <td>0.002922</td>\n",
              "      <td>-0.091774</td>\n",
              "      <td>0.029153</td>\n",
              "      <td>-0.339065</td>\n",
              "      <td>-0.019103</td>\n",
              "      <td>0.094160</td>\n",
              "    </tr>\n",
              "    <tr>\n",
              "      <th>URLURL_Length</th>\n",
              "      <td>-0.052411</td>\n",
              "      <td>1.000000</td>\n",
              "      <td>-0.097881</td>\n",
              "      <td>0.000010</td>\n",
              "      <td>-0.081247</td>\n",
              "      <td>0.055247</td>\n",
              "      <td>0.003997</td>\n",
              "      <td>0.048754</td>\n",
              "      <td>-0.221892</td>\n",
              "      <td>0.000323</td>\n",
              "      <td>...</td>\n",
              "      <td>-0.106761</td>\n",
              "      <td>-0.045103</td>\n",
              "      <td>0.179426</td>\n",
              "      <td>-0.040823</td>\n",
              "      <td>0.008993</td>\n",
              "      <td>0.183518</td>\n",
              "      <td>0.002902</td>\n",
              "      <td>-0.022987</td>\n",
              "      <td>-0.067153</td>\n",
              "      <td>0.057430</td>\n",
              "    </tr>\n",
              "    <tr>\n",
              "      <th>Shortining_Service</th>\n",
              "      <td>0.403461</td>\n",
              "      <td>-0.097881</td>\n",
              "      <td>1.000000</td>\n",
              "      <td>0.013697</td>\n",
              "      <td>0.842796</td>\n",
              "      <td>-0.080471</td>\n",
              "      <td>-0.041916</td>\n",
              "      <td>-0.061426</td>\n",
              "      <td>0.060923</td>\n",
              "      <td>0.002201</td>\n",
              "      <td>...</td>\n",
              "      <td>0.739290</td>\n",
              "      <td>0.062383</td>\n",
              "      <td>-0.052596</td>\n",
              "      <td>0.436064</td>\n",
              "      <td>-0.047074</td>\n",
              "      <td>0.014591</td>\n",
              "      <td>0.155844</td>\n",
              "      <td>-0.198410</td>\n",
              "      <td>0.085461</td>\n",
              "      <td>-0.067966</td>\n",
              "    </tr>\n",
              "    <tr>\n",
              "      <th>having_At_Symbol</th>\n",
              "      <td>-0.000597</td>\n",
              "      <td>0.000010</td>\n",
              "      <td>0.013697</td>\n",
              "      <td>1.000000</td>\n",
              "      <td>0.007314</td>\n",
              "      <td>-0.004048</td>\n",
              "      <td>0.000930</td>\n",
              "      <td>0.003444</td>\n",
              "      <td>-0.007424</td>\n",
              "      <td>0.031804</td>\n",
              "      <td>...</td>\n",
              "      <td>0.024174</td>\n",
              "      <td>0.032616</td>\n",
              "      <td>0.029240</td>\n",
              "      <td>0.028325</td>\n",
              "      <td>0.003675</td>\n",
              "      <td>-0.004955</td>\n",
              "      <td>-0.007486</td>\n",
              "      <td>-0.026939</td>\n",
              "      <td>0.012795</td>\n",
              "      <td>0.006446</td>\n",
              "    </tr>\n",
              "    <tr>\n",
              "      <th>double_slash_redirecting</th>\n",
              "      <td>0.397389</td>\n",
              "      <td>-0.081247</td>\n",
              "      <td>0.842796</td>\n",
              "      <td>0.007314</td>\n",
              "      <td>1.000000</td>\n",
              "      <td>-0.085590</td>\n",
              "      <td>-0.043079</td>\n",
              "      <td>-0.036200</td>\n",
              "      <td>0.047464</td>\n",
              "      <td>0.025060</td>\n",
              "      <td>...</td>\n",
              "      <td>0.723724</td>\n",
              "      <td>0.086635</td>\n",
              "      <td>-0.050107</td>\n",
              "      <td>0.431409</td>\n",
              "      <td>-0.062369</td>\n",
              "      <td>-0.003132</td>\n",
              "      <td>0.178415</td>\n",
              "      <td>-0.194165</td>\n",
              "      <td>0.070390</td>\n",
              "      <td>-0.038608</td>\n",
              "    </tr>\n",
              "    <tr>\n",
              "      <th>Prefix_Suffix</th>\n",
              "      <td>-0.005257</td>\n",
              "      <td>0.055247</td>\n",
              "      <td>-0.080471</td>\n",
              "      <td>-0.004048</td>\n",
              "      <td>-0.085590</td>\n",
              "      <td>1.000000</td>\n",
              "      <td>0.087891</td>\n",
              "      <td>0.261391</td>\n",
              "      <td>-0.096799</td>\n",
              "      <td>-0.022546</td>\n",
              "      <td>...</td>\n",
              "      <td>-0.077620</td>\n",
              "      <td>0.012578</td>\n",
              "      <td>0.074116</td>\n",
              "      <td>-0.016556</td>\n",
              "      <td>0.110598</td>\n",
              "      <td>-0.006834</td>\n",
              "      <td>0.067781</td>\n",
              "      <td>0.067423</td>\n",
              "      <td>-0.002763</td>\n",
              "      <td>0.348606</td>\n",
              "    </tr>\n",
              "    <tr>\n",
              "      <th>having_Sub_Domain</th>\n",
              "      <td>-0.080745</td>\n",
              "      <td>0.003997</td>\n",
              "      <td>-0.041916</td>\n",
              "      <td>0.000930</td>\n",
              "      <td>-0.043079</td>\n",
              "      <td>0.087891</td>\n",
              "      <td>1.000000</td>\n",
              "      <td>0.267649</td>\n",
              "      <td>-0.082839</td>\n",
              "      <td>0.004863</td>\n",
              "      <td>...</td>\n",
              "      <td>-0.034908</td>\n",
              "      <td>-0.018082</td>\n",
              "      <td>0.119254</td>\n",
              "      <td>0.125493</td>\n",
              "      <td>-0.005764</td>\n",
              "      <td>0.120730</td>\n",
              "      <td>0.057673</td>\n",
              "      <td>-0.010526</td>\n",
              "      <td>0.081627</td>\n",
              "      <td>0.298323</td>\n",
              "    </tr>\n",
              "    <tr>\n",
              "      <th>SSLfinal_State</th>\n",
              "      <td>0.071414</td>\n",
              "      <td>0.048754</td>\n",
              "      <td>-0.061426</td>\n",
              "      <td>0.003444</td>\n",
              "      <td>-0.036200</td>\n",
              "      <td>0.261391</td>\n",
              "      <td>0.267649</td>\n",
              "      <td>1.000000</td>\n",
              "      <td>-0.193622</td>\n",
              "      <td>0.027473</td>\n",
              "      <td>...</td>\n",
              "      <td>-0.046245</td>\n",
              "      <td>0.023586</td>\n",
              "      <td>0.162809</td>\n",
              "      <td>0.050972</td>\n",
              "      <td>0.258768</td>\n",
              "      <td>0.074545</td>\n",
              "      <td>0.096051</td>\n",
              "      <td>-0.011710</td>\n",
              "      <td>0.063411</td>\n",
              "      <td>0.714741</td>\n",
              "    </tr>\n",
              "    <tr>\n",
              "      <th>Domain_registeration_length</th>\n",
              "      <td>-0.022739</td>\n",
              "      <td>-0.221892</td>\n",
              "      <td>0.060923</td>\n",
              "      <td>-0.007424</td>\n",
              "      <td>0.047464</td>\n",
              "      <td>-0.096799</td>\n",
              "      <td>-0.082839</td>\n",
              "      <td>-0.193622</td>\n",
              "      <td>1.000000</td>\n",
              "      <td>0.022478</td>\n",
              "      <td>...</td>\n",
              "      <td>0.058109</td>\n",
              "      <td>0.023784</td>\n",
              "      <td>-0.062851</td>\n",
              "      <td>-0.010477</td>\n",
              "      <td>-0.134454</td>\n",
              "      <td>-0.059898</td>\n",
              "      <td>-0.039766</td>\n",
              "      <td>0.122672</td>\n",
              "      <td>-0.002212</td>\n",
              "      <td>-0.225789</td>\n",
              "    </tr>\n",
              "    <tr>\n",
              "      <th>port</th>\n",
              "      <td>0.060979</td>\n",
              "      <td>0.000323</td>\n",
              "      <td>0.002201</td>\n",
              "      <td>0.031804</td>\n",
              "      <td>0.025060</td>\n",
              "      <td>-0.022546</td>\n",
              "      <td>0.004863</td>\n",
              "      <td>0.027473</td>\n",
              "      <td>0.022478</td>\n",
              "      <td>1.000000</td>\n",
              "      <td>...</td>\n",
              "      <td>0.054126</td>\n",
              "      <td>0.623298</td>\n",
              "      <td>0.008459</td>\n",
              "      <td>0.054849</td>\n",
              "      <td>-0.028543</td>\n",
              "      <td>0.017954</td>\n",
              "      <td>-0.005413</td>\n",
              "      <td>-0.139104</td>\n",
              "      <td>0.343987</td>\n",
              "      <td>0.036419</td>\n",
              "    </tr>\n",
              "    <tr>\n",
              "      <th>HTTPS_token</th>\n",
              "      <td>0.363534</td>\n",
              "      <td>-0.089383</td>\n",
              "      <td>0.757838</td>\n",
              "      <td>0.014041</td>\n",
              "      <td>0.760799</td>\n",
              "      <td>-0.070153</td>\n",
              "      <td>-0.037239</td>\n",
              "      <td>-0.029941</td>\n",
              "      <td>0.059161</td>\n",
              "      <td>0.004999</td>\n",
              "      <td>...</td>\n",
              "      <td>0.716287</td>\n",
              "      <td>0.110113</td>\n",
              "      <td>-0.049632</td>\n",
              "      <td>0.395387</td>\n",
              "      <td>-0.039708</td>\n",
              "      <td>0.021104</td>\n",
              "      <td>0.115450</td>\n",
              "      <td>-0.128724</td>\n",
              "      <td>0.096187</td>\n",
              "      <td>-0.039854</td>\n",
              "    </tr>\n",
              "    <tr>\n",
              "      <th>Request_URL</th>\n",
              "      <td>0.029773</td>\n",
              "      <td>0.246348</td>\n",
              "      <td>-0.037235</td>\n",
              "      <td>-0.002731</td>\n",
              "      <td>-0.026368</td>\n",
              "      <td>0.098675</td>\n",
              "      <td>0.104857</td>\n",
              "      <td>0.193054</td>\n",
              "      <td>-0.609970</td>\n",
              "      <td>0.027561</td>\n",
              "      <td>...</td>\n",
              "      <td>-0.036034</td>\n",
              "      <td>0.008144</td>\n",
              "      <td>0.090455</td>\n",
              "      <td>0.015933</td>\n",
              "      <td>0.161166</td>\n",
              "      <td>0.055734</td>\n",
              "      <td>0.046409</td>\n",
              "      <td>-0.067109</td>\n",
              "      <td>0.035412</td>\n",
              "      <td>0.253372</td>\n",
              "    </tr>\n",
              "    <tr>\n",
              "      <th>URL_of_Anchor</th>\n",
              "      <td>0.099847</td>\n",
              "      <td>-0.023396</td>\n",
              "      <td>0.000561</td>\n",
              "      <td>0.004890</td>\n",
              "      <td>-0.005036</td>\n",
              "      <td>0.348871</td>\n",
              "      <td>0.229491</td>\n",
              "      <td>0.535786</td>\n",
              "      <td>-0.160257</td>\n",
              "      <td>0.039891</td>\n",
              "      <td>...</td>\n",
              "      <td>-0.010585</td>\n",
              "      <td>0.067742</td>\n",
              "      <td>0.075508</td>\n",
              "      <td>0.093288</td>\n",
              "      <td>0.326293</td>\n",
              "      <td>0.099261</td>\n",
              "      <td>0.038816</td>\n",
              "      <td>0.018651</td>\n",
              "      <td>0.077377</td>\n",
              "      <td>0.692935</td>\n",
              "    </tr>\n",
              "    <tr>\n",
              "      <th>Links_in_tags</th>\n",
              "      <td>0.006212</td>\n",
              "      <td>0.052869</td>\n",
              "      <td>-0.133379</td>\n",
              "      <td>0.008423</td>\n",
              "      <td>-0.125583</td>\n",
              "      <td>0.100254</td>\n",
              "      <td>0.093646</td>\n",
              "      <td>0.176825</td>\n",
              "      <td>-0.101084</td>\n",
              "      <td>-0.066502</td>\n",
              "      <td>...</td>\n",
              "      <td>-0.116065</td>\n",
              "      <td>-0.077670</td>\n",
              "      <td>0.078057</td>\n",
              "      <td>-0.038545</td>\n",
              "      <td>0.064548</td>\n",
              "      <td>-0.006450</td>\n",
              "      <td>0.045557</td>\n",
              "      <td>0.013561</td>\n",
              "      <td>-0.087343</td>\n",
              "      <td>0.248229</td>\n",
              "    </tr>\n",
              "    <tr>\n",
              "      <th>SFH</th>\n",
              "      <td>-0.010962</td>\n",
              "      <td>0.414196</td>\n",
              "      <td>-0.022723</td>\n",
              "      <td>0.006004</td>\n",
              "      <td>-0.041672</td>\n",
              "      <td>0.001326</td>\n",
              "      <td>0.096089</td>\n",
              "      <td>0.171402</td>\n",
              "      <td>-0.136422</td>\n",
              "      <td>0.006672</td>\n",
              "      <td>...</td>\n",
              "      <td>-0.030752</td>\n",
              "      <td>0.007579</td>\n",
              "      <td>-0.015840</td>\n",
              "      <td>0.034440</td>\n",
              "      <td>0.052706</td>\n",
              "      <td>0.001979</td>\n",
              "      <td>0.027588</td>\n",
              "      <td>-0.009068</td>\n",
              "      <td>-0.005289</td>\n",
              "      <td>0.221419</td>\n",
              "    </tr>\n",
              "    <tr>\n",
              "      <th>Abnormal_URL</th>\n",
              "      <td>0.336549</td>\n",
              "      <td>-0.106761</td>\n",
              "      <td>0.739290</td>\n",
              "      <td>0.024174</td>\n",
              "      <td>0.723724</td>\n",
              "      <td>-0.077620</td>\n",
              "      <td>-0.034908</td>\n",
              "      <td>-0.046245</td>\n",
              "      <td>0.058109</td>\n",
              "      <td>0.054126</td>\n",
              "      <td>...</td>\n",
              "      <td>1.000000</td>\n",
              "      <td>0.117638</td>\n",
              "      <td>-0.032533</td>\n",
              "      <td>0.366833</td>\n",
              "      <td>-0.052416</td>\n",
              "      <td>0.007318</td>\n",
              "      <td>0.124751</td>\n",
              "      <td>-0.161027</td>\n",
              "      <td>0.186399</td>\n",
              "      <td>-0.060488</td>\n",
              "    </tr>\n",
              "    <tr>\n",
              "      <th>on_mouseover</th>\n",
              "      <td>0.084059</td>\n",
              "      <td>-0.045103</td>\n",
              "      <td>0.062383</td>\n",
              "      <td>0.032616</td>\n",
              "      <td>0.086635</td>\n",
              "      <td>0.012578</td>\n",
              "      <td>-0.018082</td>\n",
              "      <td>0.023586</td>\n",
              "      <td>0.023784</td>\n",
              "      <td>0.623298</td>\n",
              "      <td>...</td>\n",
              "      <td>0.117638</td>\n",
              "      <td>1.000000</td>\n",
              "      <td>0.013306</td>\n",
              "      <td>0.087161</td>\n",
              "      <td>-0.036531</td>\n",
              "      <td>0.015634</td>\n",
              "      <td>-0.006510</td>\n",
              "      <td>-0.038551</td>\n",
              "      <td>0.277347</td>\n",
              "      <td>0.041838</td>\n",
              "    </tr>\n",
              "    <tr>\n",
              "      <th>age_of_domain</th>\n",
              "      <td>-0.010446</td>\n",
              "      <td>0.179426</td>\n",
              "      <td>-0.052596</td>\n",
              "      <td>0.029240</td>\n",
              "      <td>-0.050107</td>\n",
              "      <td>0.074116</td>\n",
              "      <td>0.119254</td>\n",
              "      <td>0.162809</td>\n",
              "      <td>-0.062851</td>\n",
              "      <td>0.008459</td>\n",
              "      <td>...</td>\n",
              "      <td>-0.032533</td>\n",
              "      <td>0.013306</td>\n",
              "      <td>1.000000</td>\n",
              "      <td>-0.034082</td>\n",
              "      <td>0.089949</td>\n",
              "      <td>-0.147194</td>\n",
              "      <td>-0.028471</td>\n",
              "      <td>0.040407</td>\n",
              "      <td>0.009115</td>\n",
              "      <td>0.121496</td>\n",
              "    </tr>\n",
              "    <tr>\n",
              "      <th>DNSRecord</th>\n",
              "      <td>-0.050733</td>\n",
              "      <td>-0.040823</td>\n",
              "      <td>0.436064</td>\n",
              "      <td>0.028325</td>\n",
              "      <td>0.431409</td>\n",
              "      <td>-0.016556</td>\n",
              "      <td>0.125493</td>\n",
              "      <td>0.050972</td>\n",
              "      <td>-0.010477</td>\n",
              "      <td>0.054849</td>\n",
              "      <td>...</td>\n",
              "      <td>0.366833</td>\n",
              "      <td>0.087161</td>\n",
              "      <td>-0.034082</td>\n",
              "      <td>1.000000</td>\n",
              "      <td>0.048650</td>\n",
              "      <td>0.137860</td>\n",
              "      <td>0.137509</td>\n",
              "      <td>-0.318266</td>\n",
              "      <td>0.136860</td>\n",
              "      <td>0.075718</td>\n",
              "    </tr>\n",
              "    <tr>\n",
              "      <th>web_traffic</th>\n",
              "      <td>0.002922</td>\n",
              "      <td>0.008993</td>\n",
              "      <td>-0.047074</td>\n",
              "      <td>0.003675</td>\n",
              "      <td>-0.062369</td>\n",
              "      <td>0.110598</td>\n",
              "      <td>-0.005764</td>\n",
              "      <td>0.258768</td>\n",
              "      <td>-0.134454</td>\n",
              "      <td>-0.028543</td>\n",
              "      <td>...</td>\n",
              "      <td>-0.052416</td>\n",
              "      <td>-0.036531</td>\n",
              "      <td>0.089949</td>\n",
              "      <td>0.048650</td>\n",
              "      <td>1.000000</td>\n",
              "      <td>0.030984</td>\n",
              "      <td>-0.012584</td>\n",
              "      <td>-0.019860</td>\n",
              "      <td>0.009223</td>\n",
              "      <td>0.346103</td>\n",
              "    </tr>\n",
              "    <tr>\n",
              "      <th>Page_Rank</th>\n",
              "      <td>-0.091774</td>\n",
              "      <td>0.183518</td>\n",
              "      <td>0.014591</td>\n",
              "      <td>-0.004955</td>\n",
              "      <td>-0.003132</td>\n",
              "      <td>-0.006834</td>\n",
              "      <td>0.120730</td>\n",
              "      <td>0.074545</td>\n",
              "      <td>-0.059898</td>\n",
              "      <td>0.017954</td>\n",
              "      <td>...</td>\n",
              "      <td>0.007318</td>\n",
              "      <td>0.015634</td>\n",
              "      <td>-0.147194</td>\n",
              "      <td>0.137860</td>\n",
              "      <td>0.030984</td>\n",
              "      <td>1.000000</td>\n",
              "      <td>0.032431</td>\n",
              "      <td>-0.028216</td>\n",
              "      <td>0.031049</td>\n",
              "      <td>0.104645</td>\n",
              "    </tr>\n",
              "    <tr>\n",
              "      <th>Google_Index</th>\n",
              "      <td>0.029153</td>\n",
              "      <td>0.002902</td>\n",
              "      <td>0.155844</td>\n",
              "      <td>-0.007486</td>\n",
              "      <td>0.178415</td>\n",
              "      <td>0.067781</td>\n",
              "      <td>0.057673</td>\n",
              "      <td>0.096051</td>\n",
              "      <td>-0.039766</td>\n",
              "      <td>-0.005413</td>\n",
              "      <td>...</td>\n",
              "      <td>0.124751</td>\n",
              "      <td>-0.006510</td>\n",
              "      <td>-0.028471</td>\n",
              "      <td>0.137509</td>\n",
              "      <td>-0.012584</td>\n",
              "      <td>0.032431</td>\n",
              "      <td>1.000000</td>\n",
              "      <td>-0.038777</td>\n",
              "      <td>-0.005103</td>\n",
              "      <td>0.128950</td>\n",
              "    </tr>\n",
              "    <tr>\n",
              "      <th>Links_pointing_to_page</th>\n",
              "      <td>-0.339065</td>\n",
              "      <td>-0.022987</td>\n",
              "      <td>-0.198410</td>\n",
              "      <td>-0.026939</td>\n",
              "      <td>-0.194165</td>\n",
              "      <td>0.067423</td>\n",
              "      <td>-0.010526</td>\n",
              "      <td>-0.011710</td>\n",
              "      <td>0.122672</td>\n",
              "      <td>-0.139104</td>\n",
              "      <td>...</td>\n",
              "      <td>-0.161027</td>\n",
              "      <td>-0.038551</td>\n",
              "      <td>0.040407</td>\n",
              "      <td>-0.318266</td>\n",
              "      <td>-0.019860</td>\n",
              "      <td>-0.028216</td>\n",
              "      <td>-0.038777</td>\n",
              "      <td>1.000000</td>\n",
              "      <td>-0.016817</td>\n",
              "      <td>0.032574</td>\n",
              "    </tr>\n",
              "    <tr>\n",
              "      <th>Statistical_report</th>\n",
              "      <td>-0.019103</td>\n",
              "      <td>-0.067153</td>\n",
              "      <td>0.085461</td>\n",
              "      <td>0.012795</td>\n",
              "      <td>0.070390</td>\n",
              "      <td>-0.002763</td>\n",
              "      <td>0.081627</td>\n",
              "      <td>0.063411</td>\n",
              "      <td>-0.002212</td>\n",
              "      <td>0.343987</td>\n",
              "      <td>...</td>\n",
              "      <td>0.186399</td>\n",
              "      <td>0.277347</td>\n",
              "      <td>0.009115</td>\n",
              "      <td>0.136860</td>\n",
              "      <td>0.009223</td>\n",
              "      <td>0.031049</td>\n",
              "      <td>-0.005103</td>\n",
              "      <td>-0.016817</td>\n",
              "      <td>1.000000</td>\n",
              "      <td>0.079857</td>\n",
              "    </tr>\n",
              "    <tr>\n",
              "      <th>Result</th>\n",
              "      <td>0.094160</td>\n",
              "      <td>0.057430</td>\n",
              "      <td>-0.067966</td>\n",
              "      <td>0.006446</td>\n",
              "      <td>-0.038608</td>\n",
              "      <td>0.348606</td>\n",
              "      <td>0.298323</td>\n",
              "      <td>0.714741</td>\n",
              "      <td>-0.225789</td>\n",
              "      <td>0.036419</td>\n",
              "      <td>...</td>\n",
              "      <td>-0.060488</td>\n",
              "      <td>0.041838</td>\n",
              "      <td>0.121496</td>\n",
              "      <td>0.075718</td>\n",
              "      <td>0.346103</td>\n",
              "      <td>0.104645</td>\n",
              "      <td>0.128950</td>\n",
              "      <td>0.032574</td>\n",
              "      <td>0.079857</td>\n",
              "      <td>1.000000</td>\n",
              "    </tr>\n",
              "  </tbody>\n",
              "</table>\n",
              "<p>25 rows × 25 columns</p>\n",
              "</div>\n",
              "      <button class=\"colab-df-convert\" onclick=\"convertToInteractive('df-1ddeb555-d85f-4f8e-8568-de5dd617c7ea')\"\n",
              "              title=\"Convert this dataframe to an interactive table.\"\n",
              "              style=\"display:none;\">\n",
              "        \n",
              "  <svg xmlns=\"http://www.w3.org/2000/svg\" height=\"24px\"viewBox=\"0 0 24 24\"\n",
              "       width=\"24px\">\n",
              "    <path d=\"M0 0h24v24H0V0z\" fill=\"none\"/>\n",
              "    <path d=\"M18.56 5.44l.94 2.06.94-2.06 2.06-.94-2.06-.94-.94-2.06-.94 2.06-2.06.94zm-11 1L8.5 8.5l.94-2.06 2.06-.94-2.06-.94L8.5 2.5l-.94 2.06-2.06.94zm10 10l.94 2.06.94-2.06 2.06-.94-2.06-.94-.94-2.06-.94 2.06-2.06.94z\"/><path d=\"M17.41 7.96l-1.37-1.37c-.4-.4-.92-.59-1.43-.59-.52 0-1.04.2-1.43.59L10.3 9.45l-7.72 7.72c-.78.78-.78 2.05 0 2.83L4 21.41c.39.39.9.59 1.41.59.51 0 1.02-.2 1.41-.59l7.78-7.78 2.81-2.81c.8-.78.8-2.07 0-2.86zM5.41 20L4 18.59l7.72-7.72 1.47 1.35L5.41 20z\"/>\n",
              "  </svg>\n",
              "      </button>\n",
              "      \n",
              "  <style>\n",
              "    .colab-df-container {\n",
              "      display:flex;\n",
              "      flex-wrap:wrap;\n",
              "      gap: 12px;\n",
              "    }\n",
              "\n",
              "    .colab-df-convert {\n",
              "      background-color: #E8F0FE;\n",
              "      border: none;\n",
              "      border-radius: 50%;\n",
              "      cursor: pointer;\n",
              "      display: none;\n",
              "      fill: #1967D2;\n",
              "      height: 32px;\n",
              "      padding: 0 0 0 0;\n",
              "      width: 32px;\n",
              "    }\n",
              "\n",
              "    .colab-df-convert:hover {\n",
              "      background-color: #E2EBFA;\n",
              "      box-shadow: 0px 1px 2px rgba(60, 64, 67, 0.3), 0px 1px 3px 1px rgba(60, 64, 67, 0.15);\n",
              "      fill: #174EA6;\n",
              "    }\n",
              "\n",
              "    [theme=dark] .colab-df-convert {\n",
              "      background-color: #3B4455;\n",
              "      fill: #D2E3FC;\n",
              "    }\n",
              "\n",
              "    [theme=dark] .colab-df-convert:hover {\n",
              "      background-color: #434B5C;\n",
              "      box-shadow: 0px 1px 3px 1px rgba(0, 0, 0, 0.15);\n",
              "      filter: drop-shadow(0px 1px 2px rgba(0, 0, 0, 0.3));\n",
              "      fill: #FFFFFF;\n",
              "    }\n",
              "  </style>\n",
              "\n",
              "      <script>\n",
              "        const buttonEl =\n",
              "          document.querySelector('#df-1ddeb555-d85f-4f8e-8568-de5dd617c7ea button.colab-df-convert');\n",
              "        buttonEl.style.display =\n",
              "          google.colab.kernel.accessAllowed ? 'block' : 'none';\n",
              "\n",
              "        async function convertToInteractive(key) {\n",
              "          const element = document.querySelector('#df-1ddeb555-d85f-4f8e-8568-de5dd617c7ea');\n",
              "          const dataTable =\n",
              "            await google.colab.kernel.invokeFunction('convertToInteractive',\n",
              "                                                     [key], {});\n",
              "          if (!dataTable) return;\n",
              "\n",
              "          const docLinkHtml = 'Like what you see? Visit the ' +\n",
              "            '<a target=\"_blank\" href=https://colab.research.google.com/notebooks/data_table.ipynb>data table notebook</a>'\n",
              "            + ' to learn more about interactive tables.';\n",
              "          element.innerHTML = '';\n",
              "          dataTable['output_type'] = 'display_data';\n",
              "          await google.colab.output.renderOutput(dataTable, element);\n",
              "          const docLink = document.createElement('div');\n",
              "          docLink.innerHTML = docLinkHtml;\n",
              "          element.appendChild(docLink);\n",
              "        }\n",
              "      </script>\n",
              "    </div>\n",
              "  </div>\n",
              "  "
            ]
          },
          "metadata": {},
          "execution_count": 29
        }
      ]
    },
    {
      "cell_type": "markdown",
      "source": [
        "Split the dataset"
      ],
      "metadata": {
        "id": "xbiK_3s-fNjo"
      }
    },
    {
      "cell_type": "code",
      "source": [
        "from sklearn.model_selection import train_test_split,cross_val_score"
      ],
      "metadata": {
        "id": "QnWRVVowfOHA"
      },
      "execution_count": 30,
      "outputs": []
    },
    {
      "cell_type": "code",
      "source": [
        "X= df.drop(columns='Result')\n",
        "X.head()"
      ],
      "metadata": {
        "colab": {
          "base_uri": "https://localhost:8080/",
          "height": 300
        },
        "id": "VrPFaZ_OfR5g",
        "outputId": "1394480c-3ef8-4bb6-ffbb-a529d4e9b527"
      },
      "execution_count": 31,
      "outputs": [
        {
          "output_type": "execute_result",
          "data": {
            "text/plain": [
              "   having_IPhaving_IP_Address  URLURL_Length  Shortining_Service  \\\n",
              "0                          -1              1                   1   \n",
              "1                           1              1                   1   \n",
              "2                           1              0                   1   \n",
              "3                           1              0                   1   \n",
              "4                           1              0                  -1   \n",
              "\n",
              "   having_At_Symbol  double_slash_redirecting  Prefix_Suffix  \\\n",
              "0               1.0                        -1             -1   \n",
              "1               1.0                         1             -1   \n",
              "2               1.0                         1             -1   \n",
              "3               1.0                         1             -1   \n",
              "4               1.0                         1             -1   \n",
              "\n",
              "   having_Sub_Domain  SSLfinal_State  Domain_registeration_length  port  ...  \\\n",
              "0                 -1              -1                           -1     1  ...   \n",
              "1                  0               1                           -1     1  ...   \n",
              "2                 -1              -1                           -1     1  ...   \n",
              "3                 -1              -1                            1     1  ...   \n",
              "4                  1               1                           -1     1  ...   \n",
              "\n",
              "   SFH  Abnormal_URL  on_mouseover  age_of_domain  DNSRecord  web_traffic  \\\n",
              "0   -1            -1             1             -1         -1           -1   \n",
              "1   -1             1             1             -1         -1            0   \n",
              "2   -1            -1             1              1         -1            1   \n",
              "3   -1             1             1             -1         -1            1   \n",
              "4   -1             1            -1             -1         -1            0   \n",
              "\n",
              "   Page_Rank  Google_Index  Links_pointing_to_page  Statistical_report  \n",
              "0         -1             1                       1                  -1  \n",
              "1         -1             1                       1                   1  \n",
              "2         -1             1                       0                  -1  \n",
              "3         -1             1                      -1                   1  \n",
              "4         -1             1                       1                   1  \n",
              "\n",
              "[5 rows x 24 columns]"
            ],
            "text/html": [
              "\n",
              "  <div id=\"df-377f5d66-1992-4a97-b282-48cb0d217e1f\">\n",
              "    <div class=\"colab-df-container\">\n",
              "      <div>\n",
              "<style scoped>\n",
              "    .dataframe tbody tr th:only-of-type {\n",
              "        vertical-align: middle;\n",
              "    }\n",
              "\n",
              "    .dataframe tbody tr th {\n",
              "        vertical-align: top;\n",
              "    }\n",
              "\n",
              "    .dataframe thead th {\n",
              "        text-align: right;\n",
              "    }\n",
              "</style>\n",
              "<table border=\"1\" class=\"dataframe\">\n",
              "  <thead>\n",
              "    <tr style=\"text-align: right;\">\n",
              "      <th></th>\n",
              "      <th>having_IPhaving_IP_Address</th>\n",
              "      <th>URLURL_Length</th>\n",
              "      <th>Shortining_Service</th>\n",
              "      <th>having_At_Symbol</th>\n",
              "      <th>double_slash_redirecting</th>\n",
              "      <th>Prefix_Suffix</th>\n",
              "      <th>having_Sub_Domain</th>\n",
              "      <th>SSLfinal_State</th>\n",
              "      <th>Domain_registeration_length</th>\n",
              "      <th>port</th>\n",
              "      <th>...</th>\n",
              "      <th>SFH</th>\n",
              "      <th>Abnormal_URL</th>\n",
              "      <th>on_mouseover</th>\n",
              "      <th>age_of_domain</th>\n",
              "      <th>DNSRecord</th>\n",
              "      <th>web_traffic</th>\n",
              "      <th>Page_Rank</th>\n",
              "      <th>Google_Index</th>\n",
              "      <th>Links_pointing_to_page</th>\n",
              "      <th>Statistical_report</th>\n",
              "    </tr>\n",
              "  </thead>\n",
              "  <tbody>\n",
              "    <tr>\n",
              "      <th>0</th>\n",
              "      <td>-1</td>\n",
              "      <td>1</td>\n",
              "      <td>1</td>\n",
              "      <td>1.0</td>\n",
              "      <td>-1</td>\n",
              "      <td>-1</td>\n",
              "      <td>-1</td>\n",
              "      <td>-1</td>\n",
              "      <td>-1</td>\n",
              "      <td>1</td>\n",
              "      <td>...</td>\n",
              "      <td>-1</td>\n",
              "      <td>-1</td>\n",
              "      <td>1</td>\n",
              "      <td>-1</td>\n",
              "      <td>-1</td>\n",
              "      <td>-1</td>\n",
              "      <td>-1</td>\n",
              "      <td>1</td>\n",
              "      <td>1</td>\n",
              "      <td>-1</td>\n",
              "    </tr>\n",
              "    <tr>\n",
              "      <th>1</th>\n",
              "      <td>1</td>\n",
              "      <td>1</td>\n",
              "      <td>1</td>\n",
              "      <td>1.0</td>\n",
              "      <td>1</td>\n",
              "      <td>-1</td>\n",
              "      <td>0</td>\n",
              "      <td>1</td>\n",
              "      <td>-1</td>\n",
              "      <td>1</td>\n",
              "      <td>...</td>\n",
              "      <td>-1</td>\n",
              "      <td>1</td>\n",
              "      <td>1</td>\n",
              "      <td>-1</td>\n",
              "      <td>-1</td>\n",
              "      <td>0</td>\n",
              "      <td>-1</td>\n",
              "      <td>1</td>\n",
              "      <td>1</td>\n",
              "      <td>1</td>\n",
              "    </tr>\n",
              "    <tr>\n",
              "      <th>2</th>\n",
              "      <td>1</td>\n",
              "      <td>0</td>\n",
              "      <td>1</td>\n",
              "      <td>1.0</td>\n",
              "      <td>1</td>\n",
              "      <td>-1</td>\n",
              "      <td>-1</td>\n",
              "      <td>-1</td>\n",
              "      <td>-1</td>\n",
              "      <td>1</td>\n",
              "      <td>...</td>\n",
              "      <td>-1</td>\n",
              "      <td>-1</td>\n",
              "      <td>1</td>\n",
              "      <td>1</td>\n",
              "      <td>-1</td>\n",
              "      <td>1</td>\n",
              "      <td>-1</td>\n",
              "      <td>1</td>\n",
              "      <td>0</td>\n",
              "      <td>-1</td>\n",
              "    </tr>\n",
              "    <tr>\n",
              "      <th>3</th>\n",
              "      <td>1</td>\n",
              "      <td>0</td>\n",
              "      <td>1</td>\n",
              "      <td>1.0</td>\n",
              "      <td>1</td>\n",
              "      <td>-1</td>\n",
              "      <td>-1</td>\n",
              "      <td>-1</td>\n",
              "      <td>1</td>\n",
              "      <td>1</td>\n",
              "      <td>...</td>\n",
              "      <td>-1</td>\n",
              "      <td>1</td>\n",
              "      <td>1</td>\n",
              "      <td>-1</td>\n",
              "      <td>-1</td>\n",
              "      <td>1</td>\n",
              "      <td>-1</td>\n",
              "      <td>1</td>\n",
              "      <td>-1</td>\n",
              "      <td>1</td>\n",
              "    </tr>\n",
              "    <tr>\n",
              "      <th>4</th>\n",
              "      <td>1</td>\n",
              "      <td>0</td>\n",
              "      <td>-1</td>\n",
              "      <td>1.0</td>\n",
              "      <td>1</td>\n",
              "      <td>-1</td>\n",
              "      <td>1</td>\n",
              "      <td>1</td>\n",
              "      <td>-1</td>\n",
              "      <td>1</td>\n",
              "      <td>...</td>\n",
              "      <td>-1</td>\n",
              "      <td>1</td>\n",
              "      <td>-1</td>\n",
              "      <td>-1</td>\n",
              "      <td>-1</td>\n",
              "      <td>0</td>\n",
              "      <td>-1</td>\n",
              "      <td>1</td>\n",
              "      <td>1</td>\n",
              "      <td>1</td>\n",
              "    </tr>\n",
              "  </tbody>\n",
              "</table>\n",
              "<p>5 rows × 24 columns</p>\n",
              "</div>\n",
              "      <button class=\"colab-df-convert\" onclick=\"convertToInteractive('df-377f5d66-1992-4a97-b282-48cb0d217e1f')\"\n",
              "              title=\"Convert this dataframe to an interactive table.\"\n",
              "              style=\"display:none;\">\n",
              "        \n",
              "  <svg xmlns=\"http://www.w3.org/2000/svg\" height=\"24px\"viewBox=\"0 0 24 24\"\n",
              "       width=\"24px\">\n",
              "    <path d=\"M0 0h24v24H0V0z\" fill=\"none\"/>\n",
              "    <path d=\"M18.56 5.44l.94 2.06.94-2.06 2.06-.94-2.06-.94-.94-2.06-.94 2.06-2.06.94zm-11 1L8.5 8.5l.94-2.06 2.06-.94-2.06-.94L8.5 2.5l-.94 2.06-2.06.94zm10 10l.94 2.06.94-2.06 2.06-.94-2.06-.94-.94-2.06-.94 2.06-2.06.94z\"/><path d=\"M17.41 7.96l-1.37-1.37c-.4-.4-.92-.59-1.43-.59-.52 0-1.04.2-1.43.59L10.3 9.45l-7.72 7.72c-.78.78-.78 2.05 0 2.83L4 21.41c.39.39.9.59 1.41.59.51 0 1.02-.2 1.41-.59l7.78-7.78 2.81-2.81c.8-.78.8-2.07 0-2.86zM5.41 20L4 18.59l7.72-7.72 1.47 1.35L5.41 20z\"/>\n",
              "  </svg>\n",
              "      </button>\n",
              "      \n",
              "  <style>\n",
              "    .colab-df-container {\n",
              "      display:flex;\n",
              "      flex-wrap:wrap;\n",
              "      gap: 12px;\n",
              "    }\n",
              "\n",
              "    .colab-df-convert {\n",
              "      background-color: #E8F0FE;\n",
              "      border: none;\n",
              "      border-radius: 50%;\n",
              "      cursor: pointer;\n",
              "      display: none;\n",
              "      fill: #1967D2;\n",
              "      height: 32px;\n",
              "      padding: 0 0 0 0;\n",
              "      width: 32px;\n",
              "    }\n",
              "\n",
              "    .colab-df-convert:hover {\n",
              "      background-color: #E2EBFA;\n",
              "      box-shadow: 0px 1px 2px rgba(60, 64, 67, 0.3), 0px 1px 3px 1px rgba(60, 64, 67, 0.15);\n",
              "      fill: #174EA6;\n",
              "    }\n",
              "\n",
              "    [theme=dark] .colab-df-convert {\n",
              "      background-color: #3B4455;\n",
              "      fill: #D2E3FC;\n",
              "    }\n",
              "\n",
              "    [theme=dark] .colab-df-convert:hover {\n",
              "      background-color: #434B5C;\n",
              "      box-shadow: 0px 1px 3px 1px rgba(0, 0, 0, 0.15);\n",
              "      filter: drop-shadow(0px 1px 2px rgba(0, 0, 0, 0.3));\n",
              "      fill: #FFFFFF;\n",
              "    }\n",
              "  </style>\n",
              "\n",
              "      <script>\n",
              "        const buttonEl =\n",
              "          document.querySelector('#df-377f5d66-1992-4a97-b282-48cb0d217e1f button.colab-df-convert');\n",
              "        buttonEl.style.display =\n",
              "          google.colab.kernel.accessAllowed ? 'block' : 'none';\n",
              "\n",
              "        async function convertToInteractive(key) {\n",
              "          const element = document.querySelector('#df-377f5d66-1992-4a97-b282-48cb0d217e1f');\n",
              "          const dataTable =\n",
              "            await google.colab.kernel.invokeFunction('convertToInteractive',\n",
              "                                                     [key], {});\n",
              "          if (!dataTable) return;\n",
              "\n",
              "          const docLinkHtml = 'Like what you see? Visit the ' +\n",
              "            '<a target=\"_blank\" href=https://colab.research.google.com/notebooks/data_table.ipynb>data table notebook</a>'\n",
              "            + ' to learn more about interactive tables.';\n",
              "          element.innerHTML = '';\n",
              "          dataTable['output_type'] = 'display_data';\n",
              "          await google.colab.output.renderOutput(dataTable, element);\n",
              "          const docLink = document.createElement('div');\n",
              "          docLink.innerHTML = docLinkHtml;\n",
              "          element.appendChild(docLink);\n",
              "        }\n",
              "      </script>\n",
              "    </div>\n",
              "  </div>\n",
              "  "
            ]
          },
          "metadata": {},
          "execution_count": 31
        }
      ]
    },
    {
      "cell_type": "code",
      "source": [
        "Y=df['Result']\n",
        "Y=pd.DataFrame(Y)\n",
        "Y.head()"
      ],
      "metadata": {
        "colab": {
          "base_uri": "https://localhost:8080/",
          "height": 206
        },
        "id": "jFOA_8KmfU_g",
        "outputId": "0bcdf95e-8028-4fe1-a608-648b625ee77c"
      },
      "execution_count": 32,
      "outputs": [
        {
          "output_type": "execute_result",
          "data": {
            "text/plain": [
              "   Result\n",
              "0      -1\n",
              "1      -1\n",
              "2      -1\n",
              "3      -1\n",
              "4       1"
            ],
            "text/html": [
              "\n",
              "  <div id=\"df-c223fa6a-9731-4a60-ac70-23b874f1a78f\">\n",
              "    <div class=\"colab-df-container\">\n",
              "      <div>\n",
              "<style scoped>\n",
              "    .dataframe tbody tr th:only-of-type {\n",
              "        vertical-align: middle;\n",
              "    }\n",
              "\n",
              "    .dataframe tbody tr th {\n",
              "        vertical-align: top;\n",
              "    }\n",
              "\n",
              "    .dataframe thead th {\n",
              "        text-align: right;\n",
              "    }\n",
              "</style>\n",
              "<table border=\"1\" class=\"dataframe\">\n",
              "  <thead>\n",
              "    <tr style=\"text-align: right;\">\n",
              "      <th></th>\n",
              "      <th>Result</th>\n",
              "    </tr>\n",
              "  </thead>\n",
              "  <tbody>\n",
              "    <tr>\n",
              "      <th>0</th>\n",
              "      <td>-1</td>\n",
              "    </tr>\n",
              "    <tr>\n",
              "      <th>1</th>\n",
              "      <td>-1</td>\n",
              "    </tr>\n",
              "    <tr>\n",
              "      <th>2</th>\n",
              "      <td>-1</td>\n",
              "    </tr>\n",
              "    <tr>\n",
              "      <th>3</th>\n",
              "      <td>-1</td>\n",
              "    </tr>\n",
              "    <tr>\n",
              "      <th>4</th>\n",
              "      <td>1</td>\n",
              "    </tr>\n",
              "  </tbody>\n",
              "</table>\n",
              "</div>\n",
              "      <button class=\"colab-df-convert\" onclick=\"convertToInteractive('df-c223fa6a-9731-4a60-ac70-23b874f1a78f')\"\n",
              "              title=\"Convert this dataframe to an interactive table.\"\n",
              "              style=\"display:none;\">\n",
              "        \n",
              "  <svg xmlns=\"http://www.w3.org/2000/svg\" height=\"24px\"viewBox=\"0 0 24 24\"\n",
              "       width=\"24px\">\n",
              "    <path d=\"M0 0h24v24H0V0z\" fill=\"none\"/>\n",
              "    <path d=\"M18.56 5.44l.94 2.06.94-2.06 2.06-.94-2.06-.94-.94-2.06-.94 2.06-2.06.94zm-11 1L8.5 8.5l.94-2.06 2.06-.94-2.06-.94L8.5 2.5l-.94 2.06-2.06.94zm10 10l.94 2.06.94-2.06 2.06-.94-2.06-.94-.94-2.06-.94 2.06-2.06.94z\"/><path d=\"M17.41 7.96l-1.37-1.37c-.4-.4-.92-.59-1.43-.59-.52 0-1.04.2-1.43.59L10.3 9.45l-7.72 7.72c-.78.78-.78 2.05 0 2.83L4 21.41c.39.39.9.59 1.41.59.51 0 1.02-.2 1.41-.59l7.78-7.78 2.81-2.81c.8-.78.8-2.07 0-2.86zM5.41 20L4 18.59l7.72-7.72 1.47 1.35L5.41 20z\"/>\n",
              "  </svg>\n",
              "      </button>\n",
              "      \n",
              "  <style>\n",
              "    .colab-df-container {\n",
              "      display:flex;\n",
              "      flex-wrap:wrap;\n",
              "      gap: 12px;\n",
              "    }\n",
              "\n",
              "    .colab-df-convert {\n",
              "      background-color: #E8F0FE;\n",
              "      border: none;\n",
              "      border-radius: 50%;\n",
              "      cursor: pointer;\n",
              "      display: none;\n",
              "      fill: #1967D2;\n",
              "      height: 32px;\n",
              "      padding: 0 0 0 0;\n",
              "      width: 32px;\n",
              "    }\n",
              "\n",
              "    .colab-df-convert:hover {\n",
              "      background-color: #E2EBFA;\n",
              "      box-shadow: 0px 1px 2px rgba(60, 64, 67, 0.3), 0px 1px 3px 1px rgba(60, 64, 67, 0.15);\n",
              "      fill: #174EA6;\n",
              "    }\n",
              "\n",
              "    [theme=dark] .colab-df-convert {\n",
              "      background-color: #3B4455;\n",
              "      fill: #D2E3FC;\n",
              "    }\n",
              "\n",
              "    [theme=dark] .colab-df-convert:hover {\n",
              "      background-color: #434B5C;\n",
              "      box-shadow: 0px 1px 3px 1px rgba(0, 0, 0, 0.15);\n",
              "      filter: drop-shadow(0px 1px 2px rgba(0, 0, 0, 0.3));\n",
              "      fill: #FFFFFF;\n",
              "    }\n",
              "  </style>\n",
              "\n",
              "      <script>\n",
              "        const buttonEl =\n",
              "          document.querySelector('#df-c223fa6a-9731-4a60-ac70-23b874f1a78f button.colab-df-convert');\n",
              "        buttonEl.style.display =\n",
              "          google.colab.kernel.accessAllowed ? 'block' : 'none';\n",
              "\n",
              "        async function convertToInteractive(key) {\n",
              "          const element = document.querySelector('#df-c223fa6a-9731-4a60-ac70-23b874f1a78f');\n",
              "          const dataTable =\n",
              "            await google.colab.kernel.invokeFunction('convertToInteractive',\n",
              "                                                     [key], {});\n",
              "          if (!dataTable) return;\n",
              "\n",
              "          const docLinkHtml = 'Like what you see? Visit the ' +\n",
              "            '<a target=\"_blank\" href=https://colab.research.google.com/notebooks/data_table.ipynb>data table notebook</a>'\n",
              "            + ' to learn more about interactive tables.';\n",
              "          element.innerHTML = '';\n",
              "          dataTable['output_type'] = 'display_data';\n",
              "          await google.colab.output.renderOutput(dataTable, element);\n",
              "          const docLink = document.createElement('div');\n",
              "          docLink.innerHTML = docLinkHtml;\n",
              "          element.appendChild(docLink);\n",
              "        }\n",
              "      </script>\n",
              "    </div>\n",
              "  </div>\n",
              "  "
            ]
          },
          "metadata": {},
          "execution_count": 32
        }
      ]
    },
    {
      "cell_type": "code",
      "source": [
        "train_X,test_X,train_Y,test_Y=train_test_split(X,Y,test_size=0.40,random_state=10)"
      ],
      "metadata": {
        "id": "6WwYxcnxfYbQ"
      },
      "execution_count": 33,
      "outputs": []
    },
    {
      "cell_type": "code",
      "source": [
        "print(\"Training set has {} samples.\".format(train_X.shape[0]))\n",
        "print(\"Testing set has {} samples.\".format(test_X.shape[0]))"
      ],
      "metadata": {
        "colab": {
          "base_uri": "https://localhost:8080/"
        },
        "id": "qpjoshMLfbIA",
        "outputId": "f78c9d51-0aff-484d-ea13-e5f4bdfa9534"
      },
      "execution_count": 34,
      "outputs": [
        {
          "output_type": "stream",
          "name": "stdout",
          "text": [
            "Training set has 6633 samples.\n",
            "Testing set has 4422 samples.\n"
          ]
        }
      ]
    },
    {
      "cell_type": "markdown",
      "source": [
        "Lets apply Logistic Regression and check its accuracy"
      ],
      "metadata": {
        "id": "aAEn9JTvfkQh"
      }
    },
    {
      "cell_type": "code",
      "source": [
        "from sklearn.linear_model import LogisticRegression\n",
        "from sklearn.metrics import accuracy_score,confusion_matrix,classification_report"
      ],
      "metadata": {
        "id": "iJkr2gu9fm9Y"
      },
      "execution_count": 35,
      "outputs": []
    },
    {
      "cell_type": "markdown",
      "source": [
        "Model Training"
      ],
      "metadata": {
        "id": "kjhTwC8OfpkQ"
      }
    },
    {
      "cell_type": "code",
      "source": [
        "logreg=LogisticRegression()\n",
        "model_1=logreg.fit(train_X,train_Y)"
      ],
      "metadata": {
        "colab": {
          "base_uri": "https://localhost:8080/"
        },
        "id": "ISRmEhL7fqRv",
        "outputId": "51b5eb51-e378-455b-8e71-7ff18778d5a7"
      },
      "execution_count": 36,
      "outputs": [
        {
          "output_type": "stream",
          "name": "stderr",
          "text": [
            "/usr/local/lib/python3.7/dist-packages/sklearn/utils/validation.py:993: DataConversionWarning: A column-vector y was passed when a 1d array was expected. Please change the shape of y to (n_samples, ), for example using ravel().\n",
            "  y = column_or_1d(y, warn=True)\n"
          ]
        }
      ]
    },
    {
      "cell_type": "markdown",
      "source": [
        "Model Testing"
      ],
      "metadata": {
        "id": "w13FbzNIfvFY"
      }
    },
    {
      "cell_type": "code",
      "source": [
        "logreg_predict= model_1.predict(test_X)"
      ],
      "metadata": {
        "id": "nj9Y-dhTfw8p"
      },
      "execution_count": 37,
      "outputs": []
    },
    {
      "cell_type": "code",
      "source": [
        "print('The accurcy of Logistic Regression Model is : ', 100.0 * accuracy_score(logreg_predict,test_Y))"
      ],
      "metadata": {
        "colab": {
          "base_uri": "https://localhost:8080/"
        },
        "id": "zJTRxFaff4Hg",
        "outputId": "a4aa228b-3e30-4864-ec8e-28a0800fa3b5"
      },
      "execution_count": 38,
      "outputs": [
        {
          "output_type": "stream",
          "name": "stdout",
          "text": [
            "The accurcy of Logistic Regression Model is :  92.80868385345997\n"
          ]
        }
      ]
    },
    {
      "cell_type": "code",
      "source": [
        "print(classification_report(logreg_predict,test_Y))"
      ],
      "metadata": {
        "colab": {
          "base_uri": "https://localhost:8080/"
        },
        "id": "FZ0vDZ4Wf5wJ",
        "outputId": "655ea8d5-74ac-4bac-e903-0fa08e7eb372"
      },
      "execution_count": 39,
      "outputs": [
        {
          "output_type": "stream",
          "name": "stdout",
          "text": [
            "              precision    recall  f1-score   support\n",
            "\n",
            "          -1       0.90      0.93      0.92      1862\n",
            "           1       0.95      0.93      0.94      2560\n",
            "\n",
            "    accuracy                           0.93      4422\n",
            "   macro avg       0.93      0.93      0.93      4422\n",
            "weighted avg       0.93      0.93      0.93      4422\n",
            "\n"
          ]
        }
      ]
    },
    {
      "cell_type": "code",
      "source": [
        "def plot_confusion_matrix(test_Y, predict_y):\n",
        " C = confusion_matrix(test_Y, predict_y)\n",
        " A =(((C.T)/(C.sum(axis=1))).T)\n",
        " B =(C/C.sum(axis=0))\n",
        " plt.figure(figsize=(20,4))\n",
        " labels = [1,2]\n",
        " cmap=sns.light_palette(\"blue\")\n",
        " plt.subplot(1, 3, 1)\n",
        " sns.heatmap(C, annot=True, cmap=cmap, fmt=\".3f\", xticklabels=labels, yticklabels=labels)\n",
        " plt.xlabel('Predicted Class')\n",
        " plt.ylabel('Original Class')\n",
        " plt.title(\"Confusion matrix\")\n",
        " plt.subplot(1, 3, 2)\n",
        " sns.heatmap(B, annot=True, cmap=cmap, fmt=\".3f\", xticklabels=labels, yticklabels=labels)\n",
        " plt.xlabel('Predicted Class')\n",
        " plt.ylabel('Original Class')\n",
        " plt.title(\"Precision matrix\")\n",
        " plt.subplot(1, 3, 3)\n",
        " sns.heatmap(A, annot=True, cmap=cmap, fmt=\".3f\", xticklabels=labels, yticklabels=labels)\n",
        " plt.xlabel('Predicted Class')\n",
        " plt.ylabel('Original Class')\n",
        " plt.title(\"Recall matrix\")\n",
        " plt.show()"
      ],
      "metadata": {
        "id": "fEBUzkTvf8iQ"
      },
      "execution_count": 40,
      "outputs": []
    },
    {
      "cell_type": "code",
      "source": [
        "plot_confusion_matrix(test_Y, logreg_predict)"
      ],
      "metadata": {
        "colab": {
          "base_uri": "https://localhost:8080/",
          "height": 295
        },
        "id": "mci8qv-PgD9o",
        "outputId": "1d7ec08b-4f20-4aa1-a756-39729d94eae1"
      },
      "execution_count": 42,
      "outputs": [
        {
          "output_type": "display_data",
          "data": {
            "text/plain": [
              "<Figure size 1440x288 with 6 Axes>"
            ],
            "image/png": "[encoded data removed]"
          },
          "metadata": {}
        }
      ]
    },
    {
      "cell_type": "code",
      "source": [
        "from sklearn.metrics import precision_recall_curve\n",
        "from sklearn.metrics import plot_precision_recall_curve\n",
        "from sklearn.metrics import roc_curve\n",
        "from sklearn.metrics import plot_roc_curve\n"
      ],
      "metadata": {
        "id": "erTLIhWygAtw"
      },
      "execution_count": 41,
      "outputs": []
    },
    {
      "cell_type": "code",
      "source": [
        "\n",
        "plot_roc_curve(model_1,test_X, test_Y)"
      ],
      "metadata": {
        "colab": {
          "base_uri": "https://localhost:8080/",
          "height": 351
        },
        "id": "VuaAsj3EgLL3",
        "outputId": "f8d4488f-0c30-4c1d-b39a-f540ab35f8ec"
      },
      "execution_count": 43,
      "outputs": [
        {
          "output_type": "stream",
          "name": "stderr",
          "text": [
            "/usr/local/lib/python3.7/dist-packages/sklearn/utils/deprecation.py:87: FutureWarning: Function plot_roc_curve is deprecated; Function :func:`plot_roc_curve` is deprecated in 1.0 and will be removed in 1.2. Use one of the class methods: :meth:`sklearn.metric.RocCurveDisplay.from_predictions` or :meth:`sklearn.metric.RocCurveDisplay.from_estimator`.\n",
            "  warnings.warn(msg, category=FutureWarning)\n"
          ]
        },
        {
          "output_type": "execute_result",
          "data": {
            "text/plain": [
              "<sklearn.metrics._plot.roc_curve.RocCurveDisplay at 0x7f0259367450>"
            ]
          },
          "metadata": {},
          "execution_count": 43
        },
        {
          "output_type": "display_data",
          "data": {
            "text/plain": [
              "<Figure size 432x288 with 1 Axes>"
            ],
            "image/png": "[encoded data removed]"
          },
          "metadata": {}
        }
      ]
    },
    {
      "cell_type": "markdown",
      "source": [
        "Lets apply K-Nearest Neighbors Classifier and check its accuracy"
      ],
      "metadata": {
        "id": "Lzr5R8rIgOJx"
      }
    },
    {
      "cell_type": "code",
      "source": [
        "from sklearn.neighbors import KNeighborsClassifier"
      ],
      "metadata": {
        "id": "bmg2nI2jgQAw"
      },
      "execution_count": 44,
      "outputs": []
    },
    {
      "cell_type": "code",
      "source": [
        "error = []\n",
        "for i in range(1, 30):\n",
        "  knn = KNeighborsClassifier(n_neighbors=i)\n",
        "  knn.fit(train_X, train_Y.values.ravel())\n",
        "  pred_i = knn.predict(test_X)\n",
        "  error.append(np.mean(pred_i != test_Y.values.ravel()))"
      ],
      "metadata": {
        "id": "koyyq3wBgRrX"
      },
      "execution_count": 45,
      "outputs": []
    },
    {
      "cell_type": "code",
      "source": [
        "plt.figure(figsize=(12,6))\n",
        "plt.plot(range(1,30), error, color='red', linestyle='dashed', marker='o', markerfacecolor='green', markersize=10)\n",
        "plt.title('Error Rate for K Values')\n",
        "plt.xlabel('K Values')\n",
        "plt.ylabel('Error Rate')"
      ],
      "metadata": {
        "colab": {
          "base_uri": "https://localhost:8080/",
          "height": 421
        },
        "id": "icC07FH1gVaI",
        "outputId": "3144f38c-1ef9-4b1a-b4dc-e40b47dd128b"
      },
      "execution_count": 46,
      "outputs": [
        {
          "output_type": "execute_result",
          "data": {
            "text/plain": [
              "Text(0, 0.5, 'Error Rate')"
            ]
          },
          "metadata": {},
          "execution_count": 46
        },
        {
          "output_type": "display_data",
          "data": {
            "text/plain": [
              "<Figure size 864x432 with 1 Axes>"
            ],
            "image/png": "[encoded data removed]"
          },
          "metadata": {}
        }
      ]
    },
    {
      "cell_type": "markdown",
      "source": [
        "Model Training\n",
        "KNN Classifier for K = 1"
      ],
      "metadata": {
        "id": "PmrIdrwkgflH"
      }
    },
    {
      "cell_type": "code",
      "source": [
        "knn=KNeighborsClassifier(n_neighbors=1)\n",
        "model_2= knn.fit(train_X,train_Y)"
      ],
      "metadata": {
        "colab": {
          "base_uri": "https://localhost:8080/"
        },
        "id": "U7U0oBYvggYf",
        "outputId": "6cb1a438-f509-4023-8022-582ba2f2a05d"
      },
      "execution_count": 49,
      "outputs": [
        {
          "output_type": "stream",
          "name": "stderr",
          "text": [
            "/usr/local/lib/python3.7/dist-packages/sklearn/neighbors/_classification.py:198: DataConversionWarning: A column-vector y was passed when a 1d array was expected. Please change the shape of y to (n_samples,), for example using ravel().\n",
            "  return self._fit(X, y)\n"
          ]
        }
      ]
    },
    {
      "cell_type": "code",
      "source": [
        "knn_predict=model_2.predict(test_X)"
      ],
      "metadata": {
        "id": "s6X3oRDhgj8J"
      },
      "execution_count": 50,
      "outputs": []
    },
    {
      "cell_type": "code",
      "source": [
        "print('The accuracy of KNN Model is: ', 100.0 * accuracy_score(knn_predict,test_Y))"
      ],
      "metadata": {
        "colab": {
          "base_uri": "https://localhost:8080/"
        },
        "id": "oEl4SABIglro",
        "outputId": "2f6269c6-3a61-4040-a42a-45aec6711ec4"
      },
      "execution_count": 51,
      "outputs": [
        {
          "output_type": "stream",
          "name": "stdout",
          "text": [
            "The accuracy of KNN Model is:  92.87652645861601\n"
          ]
        }
      ]
    },
    {
      "cell_type": "code",
      "source": [
        "print(classification_report(test_Y,knn_predict))"
      ],
      "metadata": {
        "colab": {
          "base_uri": "https://localhost:8080/"
        },
        "id": "6CEst6mYgo0n",
        "outputId": "76fc1a70-35c4-4700-a4e8-330ecbbc4258"
      },
      "execution_count": 52,
      "outputs": [
        {
          "output_type": "stream",
          "name": "stdout",
          "text": [
            "              precision    recall  f1-score   support\n",
            "\n",
            "          -1       0.91      0.92      0.92      1922\n",
            "           1       0.94      0.93      0.94      2500\n",
            "\n",
            "    accuracy                           0.93      4422\n",
            "   macro avg       0.93      0.93      0.93      4422\n",
            "weighted avg       0.93      0.93      0.93      4422\n",
            "\n"
          ]
        }
      ]
    },
    {
      "cell_type": "code",
      "source": [
        "plot_confusion_matrix(test_Y, knn_predict)"
      ],
      "metadata": {
        "colab": {
          "base_uri": "https://localhost:8080/",
          "height": 295
        },
        "id": "zke49QAIgq7v",
        "outputId": "f73ca904-3103-4736-9dd2-94b2fdaf2979"
      },
      "execution_count": 53,
      "outputs": [
        {
          "output_type": "display_data",
          "data": {
            "text/plain": [
              "<Figure size 1440x288 with 6 Axes>"
            ],
            "image/png": "[encoded data removed]"
          },
          "metadata": {}
        }
      ]
    },
    {
      "cell_type": "code",
      "source": [
        "plot_roc_curve(model_2,test_X, test_Y)"
      ],
      "metadata": {
        "colab": {
          "base_uri": "https://localhost:8080/",
          "height": 351
        },
        "id": "8I4lq3pKgtvZ",
        "outputId": "fccfff37-9a01-4b7a-8aba-0b9400d61a2b"
      },
      "execution_count": 54,
      "outputs": [
        {
          "output_type": "stream",
          "name": "stderr",
          "text": [
            "/usr/local/lib/python3.7/dist-packages/sklearn/utils/deprecation.py:87: FutureWarning: Function plot_roc_curve is deprecated; Function :func:`plot_roc_curve` is deprecated in 1.0 and will be removed in 1.2. Use one of the class methods: :meth:`sklearn.metric.RocCurveDisplay.from_predictions` or :meth:`sklearn.metric.RocCurveDisplay.from_estimator`.\n",
            "  warnings.warn(msg, category=FutureWarning)\n"
          ]
        },
        {
          "output_type": "execute_result",
          "data": {
            "text/plain": [
              "<sklearn.metrics._plot.roc_curve.RocCurveDisplay at 0x7f0258e1d550>"
            ]
          },
          "metadata": {},
          "execution_count": 54
        },
        {
          "output_type": "display_data",
          "data": {
            "text/plain": [
              "<Figure size 432x288 with 1 Axes>"
            ],
            "image/png": "[encoded data removed]"
          },
          "metadata": {}
        }
      ]
    },
    {
      "cell_type": "markdown",
      "source": [
        "\n",
        "Lets apply Decision Tree Classifier and check its classifier"
      ],
      "metadata": {
        "id": "k_jSHOWSgwwC"
      }
    },
    {
      "cell_type": "code",
      "source": [
        "from sklearn.tree import DecisionTreeClassifier"
      ],
      "metadata": {
        "id": "83J56v1VgxaV"
      },
      "execution_count": 55,
      "outputs": []
    },
    {
      "cell_type": "code",
      "source": [
        "dtree=DecisionTreeClassifier()\n",
        "model_3=dtree.fit(train_X,train_Y)"
      ],
      "metadata": {
        "id": "h9OVUdoYg1JC"
      },
      "execution_count": 57,
      "outputs": []
    },
    {
      "cell_type": "code",
      "source": [
        "dtree_predict=model_3.predict(test_X)"
      ],
      "metadata": {
        "id": "hFIy3ugAg3sz"
      },
      "execution_count": 58,
      "outputs": []
    },
    {
      "cell_type": "code",
      "source": [
        "print('The accuracy of Decision Tree Classifier is: ', 100.0 * accuracy_score(dtree_predict,test_Y))"
      ],
      "metadata": {
        "colab": {
          "base_uri": "https://localhost:8080/"
        },
        "id": "O-3wif1Cg5pC",
        "outputId": "7dc6c548-94bf-4439-cbaf-071aff4cb0e5"
      },
      "execution_count": 59,
      "outputs": [
        {
          "output_type": "stream",
          "name": "stdout",
          "text": [
            "The accuracy of Decision Tree Classifier is:  94.84396200814112\n"
          ]
        }
      ]
    },
    {
      "cell_type": "code",
      "source": [
        "\n",
        "print(classification_report(dtree_predict,test_Y))"
      ],
      "metadata": {
        "colab": {
          "base_uri": "https://localhost:8080/"
        },
        "id": "YbLPVk6Mg7mj",
        "outputId": "4c46f64b-588b-4165-a83d-ad6346af1cd2"
      },
      "execution_count": 60,
      "outputs": [
        {
          "output_type": "stream",
          "name": "stdout",
          "text": [
            "              precision    recall  f1-score   support\n",
            "\n",
            "          -1       0.94      0.94      0.94      1922\n",
            "           1       0.95      0.95      0.95      2500\n",
            "\n",
            "    accuracy                           0.95      4422\n",
            "   macro avg       0.95      0.95      0.95      4422\n",
            "weighted avg       0.95      0.95      0.95      4422\n",
            "\n"
          ]
        }
      ]
    },
    {
      "cell_type": "code",
      "source": [
        "plot_confusion_matrix(test_Y, dtree_predict)"
      ],
      "metadata": {
        "colab": {
          "base_uri": "https://localhost:8080/",
          "height": 295
        },
        "id": "Aa2a767thAxW",
        "outputId": "076d7614-59d6-47b5-9ff0-6f5f4b4af8a2"
      },
      "execution_count": 61,
      "outputs": [
        {
          "output_type": "display_data",
          "data": {
            "text/plain": [
              "<Figure size 1440x288 with 6 Axes>"
            ],
            "image/png": "[encoded data removed]"
          },
          "metadata": {}
        }
      ]
    },
    {
      "cell_type": "code",
      "source": [
        "\n",
        "plot_roc_curve(model_3,test_X, test_Y)"
      ],
      "metadata": {
        "colab": {
          "base_uri": "https://localhost:8080/",
          "height": 351
        },
        "id": "Jv6YNuAyhCnJ",
        "outputId": "0d7a86aa-f395-4c8a-dc79-7094e04e5df2"
      },
      "execution_count": 62,
      "outputs": [
        {
          "output_type": "stream",
          "name": "stderr",
          "text": [
            "/usr/local/lib/python3.7/dist-packages/sklearn/utils/deprecation.py:87: FutureWarning: Function plot_roc_curve is deprecated; Function :func:`plot_roc_curve` is deprecated in 1.0 and will be removed in 1.2. Use one of the class methods: :meth:`sklearn.metric.RocCurveDisplay.from_predictions` or :meth:`sklearn.metric.RocCurveDisplay.from_estimator`.\n",
            "  warnings.warn(msg, category=FutureWarning)\n"
          ]
        },
        {
          "output_type": "execute_result",
          "data": {
            "text/plain": [
              "<sklearn.metrics._plot.roc_curve.RocCurveDisplay at 0x7f0258aa19d0>"
            ]
          },
          "metadata": {},
          "execution_count": 62
        },
        {
          "output_type": "display_data",
          "data": {
            "text/plain": [
              "<Figure size 432x288 with 1 Axes>"
            ],
            "image/png": "[encoded data removed]"
          },
          "metadata": {}
        }
      ]
    },
    {
      "cell_type": "markdown",
      "source": [
        "Lets apply Random Forest Classifier and check its accuracy"
      ],
      "metadata": {
        "id": "sdAPzZrQhFQY"
      }
    },
    {
      "cell_type": "code",
      "source": [
        "from sklearn.ensemble import RandomForestClassifier"
      ],
      "metadata": {
        "id": "kRYrq7pzhPyn"
      },
      "execution_count": 65,
      "outputs": []
    },
    {
      "cell_type": "code",
      "source": [
        "rfc=RandomForestClassifier()\n",
        "model_4=rfc.fit(train_X,train_Y)"
      ],
      "metadata": {
        "colab": {
          "base_uri": "https://localhost:8080/"
        },
        "id": "0ma9uQOTh09A",
        "outputId": "e22801e3-29e1-4a30-8894-1ea24f437315"
      },
      "execution_count": 68,
      "outputs": [
        {
          "output_type": "stream",
          "name": "stderr",
          "text": [
            "/usr/local/lib/python3.7/dist-packages/ipykernel_launcher.py:2: DataConversionWarning: A column-vector y was passed when a 1d array was expected. Please change the shape of y to (n_samples,), for example using ravel().\n",
            "  \n"
          ]
        }
      ]
    },
    {
      "cell_type": "code",
      "source": [
        "rfc_predict=model_4.predict(test_X)"
      ],
      "metadata": {
        "id": "aTDdV400h6pm"
      },
      "execution_count": 69,
      "outputs": []
    },
    {
      "cell_type": "code",
      "source": [
        "print('The accuracy of Random Forest Classifier is: ' , 100.0 * accuracy_score(rfc_predict,test_Y))"
      ],
      "metadata": {
        "colab": {
          "base_uri": "https://localhost:8080/"
        },
        "id": "0-LBwHoUh8pm",
        "outputId": "32dc6192-65f6-4bc1-e7a1-e2ee9061ab8c"
      },
      "execution_count": 70,
      "outputs": [
        {
          "output_type": "stream",
          "name": "stdout",
          "text": [
            "The accuracy of Random Forest Classifier is:  96.76616915422885\n"
          ]
        }
      ]
    },
    {
      "cell_type": "code",
      "source": [
        "print(classification_report(rfc_predict,test_Y))"
      ],
      "metadata": {
        "colab": {
          "base_uri": "https://localhost:8080/"
        },
        "id": "_fZtng54h-ae",
        "outputId": "df3edf84-e8cf-4121-e7e1-45ab36ae8a36"
      },
      "execution_count": 71,
      "outputs": [
        {
          "output_type": "stream",
          "name": "stdout",
          "text": [
            "              precision    recall  f1-score   support\n",
            "\n",
            "          -1       0.96      0.97      0.96      1907\n",
            "           1       0.97      0.97      0.97      2515\n",
            "\n",
            "    accuracy                           0.97      4422\n",
            "   macro avg       0.97      0.97      0.97      4422\n",
            "weighted avg       0.97      0.97      0.97      4422\n",
            "\n"
          ]
        }
      ]
    },
    {
      "cell_type": "code",
      "source": [
        "plot_confusion_matrix(test_Y, rfc_predict)"
      ],
      "metadata": {
        "colab": {
          "base_uri": "https://localhost:8080/",
          "height": 295
        },
        "id": "UoX2NjaKiAVH",
        "outputId": "1cf0cc1c-0fb6-457d-c925-c49482498c7b"
      },
      "execution_count": 72,
      "outputs": [
        {
          "output_type": "display_data",
          "data": {
            "text/plain": [
              "<Figure size 1440x288 with 6 Axes>"
            ],
            "image/png": "[encoded data removed]"
          },
          "metadata": {}
        }
      ]
    },
    {
      "cell_type": "code",
      "source": [
        "\n",
        "plot_roc_curve(model_4,test_X, test_Y)"
      ],
      "metadata": {
        "colab": {
          "base_uri": "https://localhost:8080/",
          "height": 351
        },
        "id": "nM9KosfdiCae",
        "outputId": "a6f07c68-ed1b-4903-bec1-b8ebe955f815"
      },
      "execution_count": 73,
      "outputs": [
        {
          "output_type": "stream",
          "name": "stderr",
          "text": [
            "/usr/local/lib/python3.7/dist-packages/sklearn/utils/deprecation.py:87: FutureWarning: Function plot_roc_curve is deprecated; Function :func:`plot_roc_curve` is deprecated in 1.0 and will be removed in 1.2. Use one of the class methods: :meth:`sklearn.metric.RocCurveDisplay.from_predictions` or :meth:`sklearn.metric.RocCurveDisplay.from_estimator`.\n",
            "  warnings.warn(msg, category=FutureWarning)\n"
          ]
        },
        {
          "output_type": "execute_result",
          "data": {
            "text/plain": [
              "<sklearn.metrics._plot.roc_curve.RocCurveDisplay at 0x7f02593c5150>"
            ]
          },
          "metadata": {},
          "execution_count": 73
        },
        {
          "output_type": "display_data",
          "data": {
            "text/plain": [
              "<Figure size 432x288 with 1 Axes>"
            ],
            "image/png": "[encoded data removed]"
          },
          "metadata": {}
        }
      ]
    },
    {
      "cell_type": "markdown",
      "source": [
        "Lets Apply SVM and check its accuracy"
      ],
      "metadata": {
        "id": "9OP3N0pohpNf"
      }
    },
    {
      "cell_type": "code",
      "source": [
        "\n",
        "from sklearn.svm import SVC"
      ],
      "metadata": {
        "id": "LPll3IohiFJ2"
      },
      "execution_count": 74,
      "outputs": []
    },
    {
      "cell_type": "code",
      "source": [
        "svc=SVC()\n",
        "model_5=svc.fit(train_X,train_Y)"
      ],
      "metadata": {
        "colab": {
          "base_uri": "https://localhost:8080/"
        },
        "id": "e97nshNoiHgg",
        "outputId": "2e2ac63a-9608-410d-bdd7-16fbc5fc9973"
      },
      "execution_count": 75,
      "outputs": [
        {
          "output_type": "stream",
          "name": "stderr",
          "text": [
            "/usr/local/lib/python3.7/dist-packages/sklearn/utils/validation.py:993: DataConversionWarning: A column-vector y was passed when a 1d array was expected. Please change the shape of y to (n_samples, ), for example using ravel().\n",
            "  y = column_or_1d(y, warn=True)\n"
          ]
        }
      ]
    },
    {
      "cell_type": "code",
      "source": [
        "svm_predict=model_5.predict(test_X)"
      ],
      "metadata": {
        "id": "I81o6hzPiKXY"
      },
      "execution_count": 76,
      "outputs": []
    },
    {
      "cell_type": "code",
      "source": [
        "print('The accuracy of SVM Classifier is: ', 100.0 * accuracy_score(svm_predict,test_Y))"
      ],
      "metadata": {
        "colab": {
          "base_uri": "https://localhost:8080/"
        },
        "id": "3y0G0IJ0iMHg",
        "outputId": "82897160-c93e-4d8d-e0b2-f436d5285aee"
      },
      "execution_count": 77,
      "outputs": [
        {
          "output_type": "stream",
          "name": "stdout",
          "text": [
            "The accuracy of SVM Classifier is:  94.48213478064224\n"
          ]
        }
      ]
    },
    {
      "cell_type": "code",
      "source": [
        "print(classification_report(svm_predict,test_Y))"
      ],
      "metadata": {
        "colab": {
          "base_uri": "https://localhost:8080/"
        },
        "id": "tRWeUQBdiN5h",
        "outputId": "63e78f04-a981-487d-e4b0-b8274740b341"
      },
      "execution_count": 78,
      "outputs": [
        {
          "output_type": "stream",
          "name": "stdout",
          "text": [
            "              precision    recall  f1-score   support\n",
            "\n",
            "          -1       0.92      0.95      0.94      1858\n",
            "           1       0.96      0.94      0.95      2564\n",
            "\n",
            "    accuracy                           0.94      4422\n",
            "   macro avg       0.94      0.95      0.94      4422\n",
            "weighted avg       0.95      0.94      0.94      4422\n",
            "\n"
          ]
        }
      ]
    },
    {
      "cell_type": "code",
      "source": [
        "plot_confusion_matrix(test_Y, svm_predict)"
      ],
      "metadata": {
        "colab": {
          "base_uri": "https://localhost:8080/",
          "height": 295
        },
        "id": "D9LANmt6iQsf",
        "outputId": "2b658f6b-8a9a-4474-a7f2-738250948a31"
      },
      "execution_count": 79,
      "outputs": [
        {
          "output_type": "display_data",
          "data": {
            "text/plain": [
              "<Figure size 1440x288 with 6 Axes>"
            ],
            "image/png": "[encoded data removed]"
          },
          "metadata": {}
        }
      ]
    },
    {
      "cell_type": "code",
      "source": [
        "plot_roc_curve(model_5,test_X, test_Y)"
      ],
      "metadata": {
        "colab": {
          "base_uri": "https://localhost:8080/",
          "height": 351
        },
        "id": "gUHaL7zSiS6Q",
        "outputId": "4ad5c539-8a39-479e-e293-093640288f11"
      },
      "execution_count": 80,
      "outputs": [
        {
          "output_type": "stream",
          "name": "stderr",
          "text": [
            "/usr/local/lib/python3.7/dist-packages/sklearn/utils/deprecation.py:87: FutureWarning: Function plot_roc_curve is deprecated; Function :func:`plot_roc_curve` is deprecated in 1.0 and will be removed in 1.2. Use one of the class methods: :meth:`sklearn.metric.RocCurveDisplay.from_predictions` or :meth:`sklearn.metric.RocCurveDisplay.from_estimator`.\n",
            "  warnings.warn(msg, category=FutureWarning)\n"
          ]
        },
        {
          "output_type": "execute_result",
          "data": {
            "text/plain": [
              "<sklearn.metrics._plot.roc_curve.RocCurveDisplay at 0x7f0258b5b0d0>"
            ]
          },
          "metadata": {},
          "execution_count": 80
        },
        {
          "output_type": "display_data",
          "data": {
            "text/plain": [
              "<Figure size 432x288 with 1 Axes>"
            ],
            "image/png": "[encoded data removed]"
          },
          "metadata": {}
        }
      ]
    },
    {
      "cell_type": "markdown",
      "source": [
        "Lets apply AdaBoost Classifier and check its accuracy"
      ],
      "metadata": {
        "id": "R6h2SY9biViA"
      }
    },
    {
      "cell_type": "code",
      "source": [
        "from sklearn.ensemble import AdaBoostClassifier"
      ],
      "metadata": {
        "id": "TcvTIPEDiXI3"
      },
      "execution_count": 81,
      "outputs": []
    },
    {
      "cell_type": "code",
      "source": [
        "adc=AdaBoostClassifier(n_estimators=5,learning_rate=1)\n",
        "model_6=adc.fit(train_X,train_Y)"
      ],
      "metadata": {
        "colab": {
          "base_uri": "https://localhost:8080/"
        },
        "id": "NvSxCo9ViY8-",
        "outputId": "22bb341b-8e36-4d12-fb14-51acf9af66c7"
      },
      "execution_count": 82,
      "outputs": [
        {
          "output_type": "stream",
          "name": "stderr",
          "text": [
            "/usr/local/lib/python3.7/dist-packages/sklearn/utils/validation.py:993: DataConversionWarning: A column-vector y was passed when a 1d array was expected. Please change the shape of y to (n_samples, ), for example using ravel().\n",
            "  y = column_or_1d(y, warn=True)\n"
          ]
        }
      ]
    },
    {
      "cell_type": "code",
      "source": [
        "adc_predict=model_6.predict(test_X)"
      ],
      "metadata": {
        "id": "yqrRQTBnia61"
      },
      "execution_count": 83,
      "outputs": []
    },
    {
      "cell_type": "code",
      "source": [
        "print('The accuracy of Ada Boost Classifier is: ', 100.0 * accuracy_score(adc_predict,test_Y))"
      ],
      "metadata": {
        "colab": {
          "base_uri": "https://localhost:8080/"
        },
        "id": "KLQK8LcuidOh",
        "outputId": "a612b457-130f-445d-bce5-534b58b1d318"
      },
      "execution_count": 84,
      "outputs": [
        {
          "output_type": "stream",
          "name": "stdout",
          "text": [
            "The accuracy of Ada Boost Classifier is:  91.42921754862053\n"
          ]
        }
      ]
    },
    {
      "cell_type": "code",
      "source": [
        "print(classification_report(adc_predict,test_Y))"
      ],
      "metadata": {
        "colab": {
          "base_uri": "https://localhost:8080/"
        },
        "id": "xEwrsVl0ignm",
        "outputId": "72fa023e-9c57-403b-f8f8-761204a91c25"
      },
      "execution_count": 85,
      "outputs": [
        {
          "output_type": "stream",
          "name": "stdout",
          "text": [
            "              precision    recall  f1-score   support\n",
            "\n",
            "          -1       0.90      0.90      0.90      1919\n",
            "           1       0.92      0.92      0.92      2503\n",
            "\n",
            "    accuracy                           0.91      4422\n",
            "   macro avg       0.91      0.91      0.91      4422\n",
            "weighted avg       0.91      0.91      0.91      4422\n",
            "\n"
          ]
        }
      ]
    },
    {
      "cell_type": "code",
      "source": [
        "plot_confusion_matrix(test_Y, adc_predict)"
      ],
      "metadata": {
        "colab": {
          "base_uri": "https://localhost:8080/",
          "height": 295
        },
        "id": "D6fQDGEUij1O",
        "outputId": "e57f3e11-fb75-4788-fb78-64889926cfe2"
      },
      "execution_count": 86,
      "outputs": [
        {
          "output_type": "display_data",
          "data": {
            "text/plain": [
              "<Figure size 1440x288 with 6 Axes>"
            ],
            "image/png": "[encoded data removed]"
          },
          "metadata": {}
        }
      ]
    },
    {
      "cell_type": "code",
      "source": [
        "plot_roc_curve(model_6,test_X, test_Y)"
      ],
      "metadata": {
        "colab": {
          "base_uri": "https://localhost:8080/",
          "height": 351
        },
        "id": "J57RPy2_inqm",
        "outputId": "ccc74ad0-0263-430a-b231-14b8909ca228"
      },
      "execution_count": 87,
      "outputs": [
        {
          "output_type": "stream",
          "name": "stderr",
          "text": [
            "/usr/local/lib/python3.7/dist-packages/sklearn/utils/deprecation.py:87: FutureWarning: Function plot_roc_curve is deprecated; Function :func:`plot_roc_curve` is deprecated in 1.0 and will be removed in 1.2. Use one of the class methods: :meth:`sklearn.metric.RocCurveDisplay.from_predictions` or :meth:`sklearn.metric.RocCurveDisplay.from_estimator`.\n",
            "  warnings.warn(msg, category=FutureWarning)\n"
          ]
        },
        {
          "output_type": "execute_result",
          "data": {
            "text/plain": [
              "<sklearn.metrics._plot.roc_curve.RocCurveDisplay at 0x7f02586542d0>"
            ]
          },
          "metadata": {},
          "execution_count": 87
        },
        {
          "output_type": "display_data",
          "data": {
            "text/plain": [
              "<Figure size 432x288 with 1 Axes>"
            ],
            "image/png": "[encoded data removed]"
          },
          "metadata": {}
        }
      ]
    },
    {
      "cell_type": "markdown",
      "source": [
        "Lets apply XGBoost Classifier and check its accuracy"
      ],
      "metadata": {
        "id": "euP5zH8xirJO"
      }
    },
    {
      "cell_type": "code",
      "source": [
        "from xgboost import XGBClassifier"
      ],
      "metadata": {
        "id": "1ft94gohirve"
      },
      "execution_count": 88,
      "outputs": []
    },
    {
      "cell_type": "code",
      "source": [
        "xgb=XGBClassifier()\n",
        "model_7=xgb.fit(train_X,train_Y)"
      ],
      "metadata": {
        "colab": {
          "base_uri": "https://localhost:8080/"
        },
        "id": "PSWIgygjiuOX",
        "outputId": "b468d05e-17bc-4e67-ce47-dad11770d4b1"
      },
      "execution_count": 89,
      "outputs": [
        {
          "output_type": "stream",
          "name": "stderr",
          "text": [
            "/usr/local/lib/python3.7/dist-packages/sklearn/preprocessing/_label.py:98: DataConversionWarning: A column-vector y was passed when a 1d array was expected. Please change the shape of y to (n_samples, ), for example using ravel().\n",
            "  y = column_or_1d(y, warn=True)\n",
            "/usr/local/lib/python3.7/dist-packages/sklearn/preprocessing/_label.py:133: DataConversionWarning: A column-vector y was passed when a 1d array was expected. Please change the shape of y to (n_samples, ), for example using ravel().\n",
            "  y = column_or_1d(y, warn=True)\n"
          ]
        }
      ]
    },
    {
      "cell_type": "code",
      "source": [
        "xgb_predict=model_7.predict(test_X)"
      ],
      "metadata": {
        "id": "0PPGkzDPivy3"
      },
      "execution_count": 90,
      "outputs": []
    },
    {
      "cell_type": "code",
      "source": [
        "\n",
        "print('The accuracy of XGBoost Classifier is: ' , 100.0 * accuracy_score(xgb_predict,test_Y))"
      ],
      "metadata": {
        "colab": {
          "base_uri": "https://localhost:8080/"
        },
        "id": "wz7lINh_ix1v",
        "outputId": "8fb0e9b5-6c19-422f-8b4e-efb85dacde31"
      },
      "execution_count": 91,
      "outputs": [
        {
          "output_type": "stream",
          "name": "stdout",
          "text": [
            "The accuracy of XGBoost Classifier is:  94.86657620985979\n"
          ]
        }
      ]
    },
    {
      "cell_type": "code",
      "source": [
        "plot_confusion_matrix(test_Y, xgb_predict)"
      ],
      "metadata": {
        "colab": {
          "base_uri": "https://localhost:8080/",
          "height": 295
        },
        "id": "sw2KSRrli0EQ",
        "outputId": "226f2513-4996-4a25-9853-8f78d0c603dc"
      },
      "execution_count": 92,
      "outputs": [
        {
          "output_type": "display_data",
          "data": {
            "text/plain": [
              "<Figure size 1440x288 with 6 Axes>"
            ],
            "image/png": "[encoded data removed]"
          },
          "metadata": {}
        }
      ]
    },
    {
      "cell_type": "code",
      "source": [
        "plot_roc_curve(model_7,test_X, test_Y)"
      ],
      "metadata": {
        "colab": {
          "base_uri": "https://localhost:8080/",
          "height": 351
        },
        "id": "jVFIm-Wyi2Qf",
        "outputId": "53d4f318-6f48-40ce-a73c-02e1db806781"
      },
      "execution_count": 93,
      "outputs": [
        {
          "output_type": "stream",
          "name": "stderr",
          "text": [
            "/usr/local/lib/python3.7/dist-packages/sklearn/utils/deprecation.py:87: FutureWarning: Function plot_roc_curve is deprecated; Function :func:`plot_roc_curve` is deprecated in 1.0 and will be removed in 1.2. Use one of the class methods: :meth:`sklearn.metric.RocCurveDisplay.from_predictions` or :meth:`sklearn.metric.RocCurveDisplay.from_estimator`.\n",
            "  warnings.warn(msg, category=FutureWarning)\n"
          ]
        },
        {
          "output_type": "execute_result",
          "data": {
            "text/plain": [
              "<sklearn.metrics._plot.roc_curve.RocCurveDisplay at 0x7f02585f7990>"
            ]
          },
          "metadata": {},
          "execution_count": 93
        },
        {
          "output_type": "display_data",
          "data": {
            "text/plain": [
              "<Figure size 432x288 with 1 Axes>"
            ],
            "image/png": "[encoded data removed]"
          },
          "metadata": {}
        }
      ]
    },
    {
      "cell_type": "code",
      "source": [
        "print('Logistic Regression Accuracy:',100 * accuracy_score(logreg_predict,test_Y))\n",
        "print('K-Nearest Neighbour Accuracy:',100* accuracy_score(knn_predict,test_Y))\n",
        "print('Decision Tree Classifier Accuracy:',100* accuracy_score(dtree_predict,test_Y))\n",
        "print('Random Forest Classifier Accuracy:',100*accuracy_score(rfc_predict,test_Y))\n",
        "print('support Vector Machine Accuracy:',100*accuracy_score(svm_predict,test_Y))\n",
        "print('Adaboost Classifier Accuracy:',100*accuracy_score(adc_predict,test_Y))\n",
        "print('XGBoost Accuracy:',100*accuracy_score(xgb_predict,test_Y))\n",
        "Logistic Regression Accuracy: 92.80868385345997\n",
        "K-Nearest Neighbour Accuracy: 93.73586612392583\n",
        "Decision Tree Classifier Accuracy: 94.91180461329715\n",
        "Random Forest Classifier Accuracy: 96.54002713704206\n",
        "support Vector Machine Accuracy: 94.48213478064224\n",
        "Adaboost Classifier Accuracy: 91.42921754862053\n",
        "XGBoost Accuracy: 94.86657620985979"
      ],
      "metadata": {
        "colab": {
          "base_uri": "https://localhost:8080/",
          "height": 130
        },
        "id": "scUgg-09i5s3",
        "outputId": "83f73f6d-abe0-4cc9-a0bd-d8598e989daf"
      },
      "execution_count": 94,
      "outputs": [
        {
          "output_type": "error",
          "ename": "SyntaxError",
          "evalue": "ignored",
          "traceback": [
            "\u001b[0;36m  File \u001b[0;32m\"<ipython-input-94-527bdaac931c>\"\u001b[0;36m, line \u001b[0;32m8\u001b[0m\n\u001b[0;31m    Logistic Regression Accuracy: 92.80868385345997\u001b[0m\n\u001b[0m                      ^\u001b[0m\n\u001b[0;31mSyntaxError\u001b[0m\u001b[0;31m:\u001b[0m invalid syntax\n"
          ]
        }
      ]
    },
    {
      "cell_type": "markdown",
      "source": [
        "From all the models we developed , Random Forest accuracy has highest accuracy and followed by Decision Tree and XGBoost. Lowest accuracy model is Adaboost."
      ],
      "metadata": {
        "id": "X6IRcdXTi7Va"
      }
    },
    {
      "cell_type": "code",
      "source": [
        "objects = ('Adaboost Classifier', 'Logistic Regression', 'KNN Classifier', 'support Vector Machine ', 'XGBoost ', 'Decision Tree Classifier', 'Random Forest Classifier')\n",
        "y_pos = np.arange(len(objects))\n",
        "performance = [91.42921754862053, 92.7860696517413, 93.08005427408412, 94.25599276345545, 94.86657620985979, 95.52238805970149, 96.85662596110357]\n",
        "plt.barh(y_pos, performance, align='center', alpha=1.0)\n",
        "plt.yticks(y_pos, objects)\n",
        "plt.xlabel('Accuracy')\n",
        "plt.xlabel('Model')\n",
        "plt.title('Accuracy per Model')\n",
        "\n",
        "plt.show()\n",
        "plt.savefig('accuracy_per_model.png')"
      ],
      "metadata": {
        "id": "dptLI3cXi9hw",
        "outputId": "23e6746c-fb50-42b5-9d9c-a929db1cb988",
        "colab": {
          "base_uri": "https://localhost:8080/",
          "height": 312
        }
      },
      "execution_count": 95,
      "outputs": [
        {
          "output_type": "display_data",
          "data": {
            "text/plain": [
              "<Figure size 432x288 with 1 Axes>"
            ],
            "image/png": "[encoded data removed]"
          },
          "metadata": {}
        },
        {
          "output_type": "display_data",
          "data": {
            "text/plain": [
              "<Figure size 432x288 with 0 Axes>"
            ]
          },
          "metadata": {}
        }
      ]
    }
  ]
}